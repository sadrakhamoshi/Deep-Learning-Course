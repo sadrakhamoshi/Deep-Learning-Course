{
  "nbformat": 4,
  "nbformat_minor": 0,
  "metadata": {
    "colab": {
      "name": "CIFAR10-pytorch.ipynb",
      "provenance": [],
      "collapsed_sections": [],
      "toc_visible": true
    },
    "kernelspec": {
      "name": "python3",
      "display_name": "Python 3"
    },
    "language_info": {
      "name": "python"
    },
    "widgets": {
      "application/vnd.jupyter.widget-state+json": {
        "25f67f63453047478e3d5024c5a82d17": {
          "model_module": "@jupyter-widgets/controls",
          "model_name": "HBoxModel",
          "model_module_version": "1.5.0",
          "state": {
            "_view_name": "HBoxView",
            "_dom_classes": [],
            "_model_name": "HBoxModel",
            "_view_module": "@jupyter-widgets/controls",
            "_model_module_version": "1.5.0",
            "_view_count": null,
            "_view_module_version": "1.5.0",
            "box_style": "",
            "layout": "IPY_MODEL_9eb18f1c05b849adb88a4d8eee2d2327",
            "_model_module": "@jupyter-widgets/controls",
            "children": [
              "IPY_MODEL_e30a59307ea341a6ad31b49df4d4430f",
              "IPY_MODEL_9e2efce778f54329a087230eb0f059e5",
              "IPY_MODEL_4daff8ed0f1f45fbb974071a85c870b4"
            ]
          }
        },
        "9eb18f1c05b849adb88a4d8eee2d2327": {
          "model_module": "@jupyter-widgets/base",
          "model_name": "LayoutModel",
          "model_module_version": "1.2.0",
          "state": {
            "_view_name": "LayoutView",
            "grid_template_rows": null,
            "right": null,
            "justify_content": null,
            "_view_module": "@jupyter-widgets/base",
            "overflow": null,
            "_model_module_version": "1.2.0",
            "_view_count": null,
            "flex_flow": null,
            "width": null,
            "min_width": null,
            "border": null,
            "align_items": null,
            "bottom": null,
            "_model_module": "@jupyter-widgets/base",
            "top": null,
            "grid_column": null,
            "overflow_y": null,
            "overflow_x": null,
            "grid_auto_flow": null,
            "grid_area": null,
            "grid_template_columns": null,
            "flex": null,
            "_model_name": "LayoutModel",
            "justify_items": null,
            "grid_row": null,
            "max_height": null,
            "align_content": null,
            "visibility": null,
            "align_self": null,
            "height": null,
            "min_height": null,
            "padding": null,
            "grid_auto_rows": null,
            "grid_gap": null,
            "max_width": null,
            "order": null,
            "_view_module_version": "1.2.0",
            "grid_template_areas": null,
            "object_position": null,
            "object_fit": null,
            "grid_auto_columns": null,
            "margin": null,
            "display": null,
            "left": null
          }
        },
        "e30a59307ea341a6ad31b49df4d4430f": {
          "model_module": "@jupyter-widgets/controls",
          "model_name": "HTMLModel",
          "model_module_version": "1.5.0",
          "state": {
            "_view_name": "HTMLView",
            "style": "IPY_MODEL_8b9001720ee5479aaaf6577cc71e9264",
            "_dom_classes": [],
            "description": "",
            "_model_name": "HTMLModel",
            "placeholder": "​",
            "_view_module": "@jupyter-widgets/controls",
            "_model_module_version": "1.5.0",
            "value": "",
            "_view_count": null,
            "_view_module_version": "1.5.0",
            "description_tooltip": null,
            "_model_module": "@jupyter-widgets/controls",
            "layout": "IPY_MODEL_cfc03f6641304ab185e87f4871834810"
          }
        },
        "9e2efce778f54329a087230eb0f059e5": {
          "model_module": "@jupyter-widgets/controls",
          "model_name": "FloatProgressModel",
          "model_module_version": "1.5.0",
          "state": {
            "_view_name": "ProgressView",
            "style": "IPY_MODEL_cde7801505784615b57e427cb3d45284",
            "_dom_classes": [],
            "description": "",
            "_model_name": "FloatProgressModel",
            "bar_style": "success",
            "max": 170498071,
            "_view_module": "@jupyter-widgets/controls",
            "_model_module_version": "1.5.0",
            "value": 170498071,
            "_view_count": null,
            "_view_module_version": "1.5.0",
            "orientation": "horizontal",
            "min": 0,
            "description_tooltip": null,
            "_model_module": "@jupyter-widgets/controls",
            "layout": "IPY_MODEL_7eb33768063e48f3b406a9db124402e3"
          }
        },
        "4daff8ed0f1f45fbb974071a85c870b4": {
          "model_module": "@jupyter-widgets/controls",
          "model_name": "HTMLModel",
          "model_module_version": "1.5.0",
          "state": {
            "_view_name": "HTMLView",
            "style": "IPY_MODEL_51983df9e5c843f099ae9dabde9eb4c3",
            "_dom_classes": [],
            "description": "",
            "_model_name": "HTMLModel",
            "placeholder": "​",
            "_view_module": "@jupyter-widgets/controls",
            "_model_module_version": "1.5.0",
            "value": " 170499072/? [00:03&lt;00:00, 59390417.81it/s]",
            "_view_count": null,
            "_view_module_version": "1.5.0",
            "description_tooltip": null,
            "_model_module": "@jupyter-widgets/controls",
            "layout": "IPY_MODEL_fb8c061dcb52499ca1ac41b7b23afe6a"
          }
        },
        "8b9001720ee5479aaaf6577cc71e9264": {
          "model_module": "@jupyter-widgets/controls",
          "model_name": "DescriptionStyleModel",
          "model_module_version": "1.5.0",
          "state": {
            "_view_name": "StyleView",
            "_model_name": "DescriptionStyleModel",
            "description_width": "",
            "_view_module": "@jupyter-widgets/base",
            "_model_module_version": "1.5.0",
            "_view_count": null,
            "_view_module_version": "1.2.0",
            "_model_module": "@jupyter-widgets/controls"
          }
        },
        "cfc03f6641304ab185e87f4871834810": {
          "model_module": "@jupyter-widgets/base",
          "model_name": "LayoutModel",
          "model_module_version": "1.2.0",
          "state": {
            "_view_name": "LayoutView",
            "grid_template_rows": null,
            "right": null,
            "justify_content": null,
            "_view_module": "@jupyter-widgets/base",
            "overflow": null,
            "_model_module_version": "1.2.0",
            "_view_count": null,
            "flex_flow": null,
            "width": null,
            "min_width": null,
            "border": null,
            "align_items": null,
            "bottom": null,
            "_model_module": "@jupyter-widgets/base",
            "top": null,
            "grid_column": null,
            "overflow_y": null,
            "overflow_x": null,
            "grid_auto_flow": null,
            "grid_area": null,
            "grid_template_columns": null,
            "flex": null,
            "_model_name": "LayoutModel",
            "justify_items": null,
            "grid_row": null,
            "max_height": null,
            "align_content": null,
            "visibility": null,
            "align_self": null,
            "height": null,
            "min_height": null,
            "padding": null,
            "grid_auto_rows": null,
            "grid_gap": null,
            "max_width": null,
            "order": null,
            "_view_module_version": "1.2.0",
            "grid_template_areas": null,
            "object_position": null,
            "object_fit": null,
            "grid_auto_columns": null,
            "margin": null,
            "display": null,
            "left": null
          }
        },
        "cde7801505784615b57e427cb3d45284": {
          "model_module": "@jupyter-widgets/controls",
          "model_name": "ProgressStyleModel",
          "model_module_version": "1.5.0",
          "state": {
            "_view_name": "StyleView",
            "_model_name": "ProgressStyleModel",
            "description_width": "",
            "_view_module": "@jupyter-widgets/base",
            "_model_module_version": "1.5.0",
            "_view_count": null,
            "_view_module_version": "1.2.0",
            "bar_color": null,
            "_model_module": "@jupyter-widgets/controls"
          }
        },
        "7eb33768063e48f3b406a9db124402e3": {
          "model_module": "@jupyter-widgets/base",
          "model_name": "LayoutModel",
          "model_module_version": "1.2.0",
          "state": {
            "_view_name": "LayoutView",
            "grid_template_rows": null,
            "right": null,
            "justify_content": null,
            "_view_module": "@jupyter-widgets/base",
            "overflow": null,
            "_model_module_version": "1.2.0",
            "_view_count": null,
            "flex_flow": null,
            "width": null,
            "min_width": null,
            "border": null,
            "align_items": null,
            "bottom": null,
            "_model_module": "@jupyter-widgets/base",
            "top": null,
            "grid_column": null,
            "overflow_y": null,
            "overflow_x": null,
            "grid_auto_flow": null,
            "grid_area": null,
            "grid_template_columns": null,
            "flex": null,
            "_model_name": "LayoutModel",
            "justify_items": null,
            "grid_row": null,
            "max_height": null,
            "align_content": null,
            "visibility": null,
            "align_self": null,
            "height": null,
            "min_height": null,
            "padding": null,
            "grid_auto_rows": null,
            "grid_gap": null,
            "max_width": null,
            "order": null,
            "_view_module_version": "1.2.0",
            "grid_template_areas": null,
            "object_position": null,
            "object_fit": null,
            "grid_auto_columns": null,
            "margin": null,
            "display": null,
            "left": null
          }
        },
        "51983df9e5c843f099ae9dabde9eb4c3": {
          "model_module": "@jupyter-widgets/controls",
          "model_name": "DescriptionStyleModel",
          "model_module_version": "1.5.0",
          "state": {
            "_view_name": "StyleView",
            "_model_name": "DescriptionStyleModel",
            "description_width": "",
            "_view_module": "@jupyter-widgets/base",
            "_model_module_version": "1.5.0",
            "_view_count": null,
            "_view_module_version": "1.2.0",
            "_model_module": "@jupyter-widgets/controls"
          }
        },
        "fb8c061dcb52499ca1ac41b7b23afe6a": {
          "model_module": "@jupyter-widgets/base",
          "model_name": "LayoutModel",
          "model_module_version": "1.2.0",
          "state": {
            "_view_name": "LayoutView",
            "grid_template_rows": null,
            "right": null,
            "justify_content": null,
            "_view_module": "@jupyter-widgets/base",
            "overflow": null,
            "_model_module_version": "1.2.0",
            "_view_count": null,
            "flex_flow": null,
            "width": null,
            "min_width": null,
            "border": null,
            "align_items": null,
            "bottom": null,
            "_model_module": "@jupyter-widgets/base",
            "top": null,
            "grid_column": null,
            "overflow_y": null,
            "overflow_x": null,
            "grid_auto_flow": null,
            "grid_area": null,
            "grid_template_columns": null,
            "flex": null,
            "_model_name": "LayoutModel",
            "justify_items": null,
            "grid_row": null,
            "max_height": null,
            "align_content": null,
            "visibility": null,
            "align_self": null,
            "height": null,
            "min_height": null,
            "padding": null,
            "grid_auto_rows": null,
            "grid_gap": null,
            "max_width": null,
            "order": null,
            "_view_module_version": "1.2.0",
            "grid_template_areas": null,
            "object_position": null,
            "object_fit": null,
            "grid_auto_columns": null,
            "margin": null,
            "display": null,
            "left": null
          }
        }
      }
    },
    "accelerator": "GPU"
  },
  "cells": [
    {
      "cell_type": "markdown",
      "metadata": {
        "id": "0_rFTr2kSmKR"
      },
      "source": [
        "# Question 3"
      ]
    },
    {
      "cell_type": "code",
      "metadata": {
        "id": "3ynv8m5c7ZY_"
      },
      "source": [
        "import torch\n",
        "import matplotlib.pyplot as plt\n",
        "import numpy as np\n",
        "import pandas as pd\n",
        "import torch.nn as nn\n",
        "import torch.nn.functional as F\n",
        "import torch.optim as optim\n",
        "from torch.optim import lr_scheduler\n",
        "import torchvision\n",
        "from torchvision import datasets, models, transforms\n",
        "\n",
        "learning_rate = 0.001\n",
        "epoch_nums = 2\n",
        "weight_decay = 5e-3\n",
        "batch_size = 128\n",
        "means = (0.485, 0.456, 0.406)\n",
        "stds = (0.229, 0.224, 0.225) \n",
        "classes = ('Airplane', 'Car', 'Bird', 'Cat', 'Deer', 'Dog', 'Frog', 'Horse', 'Ship', 'Truck')"
      ],
      "execution_count": 1,
      "outputs": []
    },
    {
      "cell_type": "markdown",
      "metadata": {
        "id": "oJMBtzqakSK4"
      },
      "source": [
        "### check cuda is avaiable"
      ]
    },
    {
      "cell_type": "code",
      "metadata": {
        "colab": {
          "base_uri": "https://localhost:8080/"
        },
        "id": "s88gaEKSkVDf",
        "outputId": "e70a05a6-895b-4e56-9f30-b16d97418593"
      },
      "source": [
        "train_on_gpu = torch.cuda.is_available()\n",
        "\n",
        "if not train_on_gpu:\n",
        "    print('CUDA is not available.  Training on CPU ...')\n",
        "else:\n",
        "    print('CUDA is available!  Training on GPU ...')"
      ],
      "execution_count": 2,
      "outputs": [
        {
          "output_type": "stream",
          "name": "stdout",
          "text": [
            "CUDA is available!  Training on GPU ...\n"
          ]
        }
      ]
    },
    {
      "cell_type": "markdown",
      "metadata": {
        "id": "NHEz10Go1vSa"
      },
      "source": [
        "### download data"
      ]
    },
    {
      "cell_type": "code",
      "metadata": {
        "colab": {
          "base_uri": "https://localhost:8080/",
          "height": 100,
          "referenced_widgets": [
            "25f67f63453047478e3d5024c5a82d17",
            "9eb18f1c05b849adb88a4d8eee2d2327",
            "e30a59307ea341a6ad31b49df4d4430f",
            "9e2efce778f54329a087230eb0f059e5",
            "4daff8ed0f1f45fbb974071a85c870b4",
            "8b9001720ee5479aaaf6577cc71e9264",
            "cfc03f6641304ab185e87f4871834810",
            "cde7801505784615b57e427cb3d45284",
            "7eb33768063e48f3b406a9db124402e3",
            "51983df9e5c843f099ae9dabde9eb4c3",
            "fb8c061dcb52499ca1ac41b7b23afe6a"
          ]
        },
        "id": "WaYqX5DP1x7I",
        "outputId": "0bf676bf-2870-4002-87c8-e1e567520a6d"
      },
      "source": [
        "train_transform = transforms.Compose(\n",
        "    [transforms.RandomCrop((32, 32), padding=4),\n",
        "     transforms.RandomHorizontalFlip(),\n",
        "     transforms.RandomVerticalFlip(),\n",
        "     transforms.RandomRotation(degrees=(0,180)),\n",
        "     transforms.ToTensor(),\n",
        "     transforms.Normalize(means, stds)])\n",
        "\n",
        "test_transform = transforms.Compose(\n",
        "    [transforms.ToTensor(),\n",
        "     transforms.Normalize(means, stds)\n",
        "    ])\n",
        "\n",
        "trainset = torchvision.datasets.CIFAR10(root='./data', train=True, download=True, transform=train_transform)\n",
        "\n",
        "\n",
        "trainloader = torch.utils.data.DataLoader(trainset, batch_size=batch_size, shuffle=True, num_workers=2)\n",
        "\n",
        "testset = torchvision.datasets.CIFAR10(root='./data', train=False, download=True, transform=test_transform)\n",
        "testloader = torch.utils.data.DataLoader(testset, batch_size=batch_size, shuffle=False, num_workers=2)\n"
      ],
      "execution_count": 3,
      "outputs": [
        {
          "output_type": "stream",
          "name": "stdout",
          "text": [
            "Downloading https://www.cs.toronto.edu/~kriz/cifar-10-python.tar.gz to ./data/cifar-10-python.tar.gz\n"
          ]
        },
        {
          "output_type": "display_data",
          "data": {
            "application/vnd.jupyter.widget-view+json": {
              "model_id": "25f67f63453047478e3d5024c5a82d17",
              "version_minor": 0,
              "version_major": 2
            },
            "text/plain": [
              "  0%|          | 0/170498071 [00:00<?, ?it/s]"
            ]
          },
          "metadata": {}
        },
        {
          "output_type": "stream",
          "name": "stdout",
          "text": [
            "Extracting ./data/cifar-10-python.tar.gz to ./data\n",
            "Files already downloaded and verified\n"
          ]
        }
      ]
    },
    {
      "cell_type": "markdown",
      "metadata": {
        "id": "RaITJMOQ0tT5"
      },
      "source": [
        "### vizualize data"
      ]
    },
    {
      "cell_type": "code",
      "metadata": {
        "id": "umMZfGUl35yQ",
        "colab": {
          "base_uri": "https://localhost:8080/",
          "height": 172
        },
        "outputId": "4e756d59-7d8e-490e-dc68-205817829e7e"
      },
      "source": [
        "# vizualize data\n",
        "\n",
        "train_data = trainset.data\n",
        "train_data = train_data.reshape((train_data.shape[0], 1024 * 3))\n",
        "\n",
        "def imshow(img):\n",
        "    # unnormalized\n",
        "    for i in range(3):\n",
        "      img[i] = img[i] * stds[i] + means[i]  \n",
        "    npimg = img.numpy()\n",
        "    plt.imshow(np.transpose(npimg, (1, 2, 0)))\n",
        "\n",
        "\n",
        "\n",
        "plt.figure(figsize=(10,5))\n",
        "dataiter = iter(trainloader)\n",
        "images, labels = dataiter.next()\n",
        "\n",
        "\n",
        "for i in range(4):\n",
        "  plt.subplot(2, 4, i+1)\n",
        "  imshow(img=images[i])\n",
        "  plt.xticks([])\n",
        "  plt.yticks([])\n",
        "  plt.title(classes[labels[i]])\n",
        "plt.show()"
      ],
      "execution_count": 19,
      "outputs": [
        {
          "output_type": "display_data",
          "data": {
            "image/png": "[encoded data removed]",
            "text/plain": [
              "<Figure size 720x360 with 4 Axes>"
            ]
          },
          "metadata": {}
        }
      ]
    },
    {
      "cell_type": "markdown",
      "metadata": {
        "id": "tJfpEr-a3Ttn"
      },
      "source": [
        "### define CNN model\n"
      ]
    },
    {
      "cell_type": "code",
      "metadata": {
        "id": "chaH5Eg23ZjV"
      },
      "source": [
        "class CNN_Network(nn.Module):\n",
        "  def __init__(self):\n",
        "    super(CNN_Network, self).__init__()\n",
        "\n",
        "    self.conv_layer = nn.Sequential(\n",
        "\n",
        "        nn.Conv2d(in_channels=3, out_channels=32, kernel_size=3, padding=1),\n",
        "        nn.BatchNorm2d(32),\n",
        "        nn.ReLU(inplace=True),\n",
        "        nn.Conv2d(in_channels=32, out_channels=64, kernel_size=3, padding=1),\n",
        "        nn.ReLU(inplace=True),\n",
        "        nn.MaxPool2d(kernel_size=2, stride=2),\n",
        "\n",
        "        nn.Conv2d(in_channels=64, out_channels=128, kernel_size=3, padding=1),\n",
        "        nn.BatchNorm2d(128),\n",
        "        nn.ReLU(inplace=True),\n",
        "        nn.Conv2d(in_channels=128, out_channels=128, kernel_size=3, padding=1),\n",
        "        nn.ReLU(inplace=True),\n",
        "        nn.MaxPool2d(kernel_size=2, stride=2),\n",
        "        nn.Dropout2d(p=0.05),\n",
        "\n",
        "        nn.Conv2d(in_channels=128, out_channels=256, kernel_size=3, padding=1),\n",
        "        nn.BatchNorm2d(256),\n",
        "        nn.ReLU(inplace=True),\n",
        "        nn.Conv2d(in_channels=256, out_channels=256, kernel_size=3, padding=1),\n",
        "        nn.ReLU(inplace=True),\n",
        "        nn.MaxPool2d(kernel_size=2, stride=2),\n",
        "    )\n",
        "\n",
        "    self.fc_layer = nn.Sequential(\n",
        "        nn.Dropout(p=0.1),\n",
        "        nn.Linear(4096, 1024),\n",
        "        nn.ReLU(inplace=True),\n",
        "        nn.Linear(1024, 512),\n",
        "        nn.ReLU(inplace=True),\n",
        "        nn.Dropout(p=0.1),\n",
        "        nn.Linear(512, 10)\n",
        "    )\n",
        "  def forward(self, x):\n",
        "    x = self.conv_layer(x)\n",
        "\n",
        "    x = x.view(x.size(0), -1)\n",
        "\n",
        "    return self.fc_layer(x)"
      ],
      "execution_count": 7,
      "outputs": []
    },
    {
      "cell_type": "markdown",
      "metadata": {
        "id": "OvT-5Mq1X2We"
      },
      "source": [
        "### define loss function and optimizer"
      ]
    },
    {
      "cell_type": "code",
      "metadata": {
        "id": "esTAzuTnYQh7"
      },
      "source": [
        "model = CNN_Network()\n",
        "if train_on_gpu:\n",
        "    model.cuda()\n",
        "\n",
        "criterion = nn.CrossEntropyLoss()\n",
        "optimizer = optim.Adam(model.parameters(), lr=learning_rate, weight_decay=weight_decay)"
      ],
      "execution_count": 10,
      "outputs": []
    },
    {
      "cell_type": "markdown",
      "metadata": {
        "id": "b2MlIJdval26"
      },
      "source": [
        "### train model"
      ]
    },
    {
      "cell_type": "code",
      "metadata": {
        "colab": {
          "base_uri": "https://localhost:8080/"
        },
        "id": "lf1WL6CgaoMw",
        "outputId": "7ea4dc5f-66c9-4557-89e8-93a118c39c79"
      },
      "source": [
        "train_losslist = []\n",
        "train_accuracylist = []\n",
        "\n",
        "for epoch in range(epoch_nums):\n",
        "\n",
        "  current_loss = 0.0\n",
        "  current_accuracy = 0.0\n",
        "  model.train()\n",
        "  for i, data in enumerate(trainloader, 0):\n",
        "    inputs, labels = data\n",
        "    if train_on_gpu:\n",
        "            inputs, labels = inputs.cuda(), labels.cuda()\n",
        "\n",
        "    # zero the prarmeter gradients\n",
        "    optimizer.zero_grad()\n",
        "\n",
        "    # forward + backward + optimizer\n",
        "    output = model(inputs)\n",
        "    loss = criterion(output, labels)\n",
        "    loss.backward()\n",
        "    optimizer.step()\n",
        "\n",
        "    _, pred = torch.max(output, 1)\n",
        "    current_accuracy += (torch.sum(torch.eq(pred, labels)).item())\n",
        "    current_loss += loss.item() * inputs.size(0)\n",
        "\n",
        "  train_acc = float(current_accuracy)/ len(trainloader.dataset)\n",
        "  train_loss = float(current_loss) / len(trainloader.dataset)\n",
        "  train_losslist.append(train_loss)\n",
        "  train_accuracylist.append(train_acc)\n",
        "  print(f'Epoch: {epoch + 1}  ====> \\tTraining Loss: {train_loss} \\tTraining Accuracy: {train_acc} ')    \n",
        "\n",
        "print(' ----- Finished Training -----')"
      ],
      "execution_count": 11,
      "outputs": [
        {
          "output_type": "stream",
          "name": "stdout",
          "text": [
            "Epoch: 1  ====> \tTraining Loss: 1.9542226824951172 \tTraining Accuracy: 0.24784 \n",
            "Epoch: 2  ====> \tTraining Loss: 1.7913587683868408 \tTraining Accuracy: 0.31576 \n",
            " ----- Finished Training -----\n"
          ]
        }
      ]
    },
    {
      "cell_type": "code",
      "metadata": {
        "colab": {
          "base_uri": "https://localhost:8080/",
          "height": 336
        },
        "id": "D8vpyXpouE-_",
        "outputId": "907368f5-9149-42e7-e270-7efd4f61c82b"
      },
      "source": [
        "plt.figure(figsize=(10,5))\n",
        "plt.subplot(1,2,1)\n",
        "plt.plot(train_accuracylist, 'ro--')\n",
        "plt.title('accuracy')\n",
        "\n",
        "plt.subplot(1,2,2)\n",
        "plt.plot(train_losslist, 'bo--')\n",
        "plt.title('loss')\n",
        "\n",
        "plt.show()"
      ],
      "execution_count": 12,
      "outputs": [
        {
          "output_type": "display_data",
          "data": {
            "image/png": "[encoded data removed]",
            "text/plain": [
              "<Figure size 720x360 with 2 Axes>"
            ]
          },
          "metadata": {
            "needs_background": "light"
          }
        }
      ]
    },
    {
      "cell_type": "markdown",
      "metadata": {
        "id": "n1QE0N9QAUzB"
      },
      "source": [
        "### test the model"
      ]
    },
    {
      "cell_type": "code",
      "metadata": {
        "colab": {
          "base_uri": "https://localhost:8080/"
        },
        "id": "b7_H1GJQAT9_",
        "outputId": "8275231d-615a-41a7-b222-301871fbe30c"
      },
      "source": [
        "correct_predict ={class_names: 0 for class_names in classes}\n",
        "total_class ={class_names:0 for class_names in classes}\n",
        "\n",
        "\n",
        "model.eval()\n",
        "with torch.no_grad():\n",
        "  for data in testloader:\n",
        "    images, labels = data\n",
        "    if train_on_gpu:\n",
        "        images, labels = images.cuda(), labels.cuda()\n",
        "    outputs = model(images)\n",
        "    _, prediction = torch.max(outputs, 1)\n",
        "\n",
        "    for label, prediction in zip(prediction, labels):\n",
        "      if label == prediction:\n",
        "        correct_predict[classes[label]] += 1\n",
        "      total_class[classes[label]]+=1\n",
        "    \n",
        "  for classname, correct_count in correct_predict.items():\n",
        "    accuracy = 100 * float(correct_count) / total_class[classname]\n",
        "    print(\"Accuracy for class {:s} is: {:.2f} % ({:d}, {:d})\".\n",
        "          format(classname, accuracy, correct_count, total_class[classname]))\n",
        "  print('*'*100)\n",
        "  total_correct = 0\n",
        "  total_data = len(testloader.dataset)\n",
        "  for k, v in correct_predict.items():\n",
        "    total_correct += v\n",
        "  print(f'Total Accuracy is :\\t========>>\\t{(total_correct/total_data) * 100}')"
      ],
      "execution_count": 18,
      "outputs": [
        {
          "output_type": "stream",
          "name": "stdout",
          "text": [
            "Accuracy for class Airplane is: 43.17 % (392, 908)\n",
            "Accuracy for class Car is: 44.08 % (488, 1107)\n",
            "Accuracy for class Bird is: 23.49 % (370, 1575)\n",
            "Accuracy for class Cat is: 17.86 % (20, 112)\n",
            "Accuracy for class Deer is: 35.49 % (307, 865)\n",
            "Accuracy for class Dog is: 21.57 % (727, 3370)\n",
            "Accuracy for class Frog is: 83.03 % (225, 271)\n",
            "Accuracy for class Horse is: 37.30 % (163, 437)\n",
            "Accuracy for class Ship is: 31.60 % (292, 924)\n",
            "Accuracy for class Truck is: 36.66 % (158, 431)\n",
            "****************************************************************************************************\n",
            "Total Accuracy is :\t========>>\t31.419999999999998\n"
          ]
        }
      ]
    }
  ]
}