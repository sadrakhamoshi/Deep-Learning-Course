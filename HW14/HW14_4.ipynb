{
  "nbformat": 4,
  "nbformat_minor": 0,
  "metadata": {
    "colab": {
      "name": "HW14_4.ipynb",
      "provenance": [],
      "collapsed_sections": [],
      "toc_visible": true
    },
    "kernelspec": {
      "name": "python3",
      "display_name": "Python 3"
    },
    "language_info": {
      "name": "python"
    }
  },
  "cells": [
    {
      "cell_type": "markdown",
      "source": [
        "# Import"
      ],
      "metadata": {
        "id": "g7m6H3X8aKf4"
      }
    },
    {
      "cell_type": "code",
      "execution_count": null,
      "metadata": {
        "id": "vMIi74DwRiq1",
        "colab": {
          "base_uri": "https://localhost:8080/"
        },
        "outputId": "2ceec5f4-66e3-48f4-97a8-1725d5535eaf"
      },
      "outputs": [
        {
          "output_type": "stream",
          "name": "stdout",
          "text": [
            "\u001b[?25l\r\u001b[K     |███▍                            | 10 kB 25.7 MB/s eta 0:00:01\r\u001b[K     |██████▊                         | 20 kB 7.4 MB/s eta 0:00:01\r\u001b[K     |██████████                      | 30 kB 6.7 MB/s eta 0:00:01\r\u001b[K     |█████████████▍                  | 40 kB 6.5 MB/s eta 0:00:01\r\u001b[K     |████████████████▊               | 51 kB 3.9 MB/s eta 0:00:01\r\u001b[K     |████████████████████            | 61 kB 4.2 MB/s eta 0:00:01\r\u001b[K     |███████████████████████▍        | 71 kB 4.2 MB/s eta 0:00:01\r\u001b[K     |██████████████████████████▊     | 81 kB 4.8 MB/s eta 0:00:01\r\u001b[K     |██████████████████████████████  | 92 kB 4.9 MB/s eta 0:00:01\r\u001b[K     |████████████████████████████████| 98 kB 3.0 MB/s \n",
            "\u001b[?25h"
          ]
        }
      ],
      "source": [
        "import tensorflow as tf\n",
        "from tensorflow import keras\n",
        "!pip install -q -U keras-tuner\n",
        "import keras_tuner as kt\n",
        "from keras_tuner.tuners import RandomSearch, BayesianOptimization "
      ]
    },
    {
      "cell_type": "markdown",
      "source": [
        "# Loading Data"
      ],
      "metadata": {
        "id": "2ZzTCtXcaOY4"
      }
    },
    {
      "cell_type": "code",
      "source": [
        "(img_train, label_train), (img_test, label_test) = keras.datasets.fashion_mnist.load_data()\n",
        "# Normalize pixel values between (img_train, label_train), (img_test, label_test) = keras.datasets.fashion_mnist.load_data()\n",
        "# Normalize pixel values between 0 and 1\n",
        "img_train = img_train.astype('float32') / 255.0\n",
        "img_test = img_test.astype('float32') / 255.00 \n",
        "img_train = img_train.astype('float32') / 255.0\n",
        "img_test = img_test.astype('float32') / 255.0"
      ],
      "metadata": {
        "id": "V83iFn-7Rpql",
        "colab": {
          "base_uri": "https://localhost:8080/"
        },
        "outputId": "78e0bf3c-177c-4b72-f302-9564be3e44e7"
      },
      "execution_count": null,
      "outputs": [
        {
          "output_type": "stream",
          "name": "stdout",
          "text": [
            "Downloading data from https://storage.googleapis.com/tensorflow/tf-keras-datasets/train-labels-idx1-ubyte.gz\n",
            "32768/29515 [=================================] - 0s 0us/step\n",
            "40960/29515 [=========================================] - 0s 0us/step\n",
            "Downloading data from https://storage.googleapis.com/tensorflow/tf-keras-datasets/train-images-idx3-ubyte.gz\n",
            "26427392/26421880 [==============================] - 0s 0us/step\n",
            "26435584/26421880 [==============================] - 0s 0us/step\n",
            "Downloading data from https://storage.googleapis.com/tensorflow/tf-keras-datasets/t10k-labels-idx1-ubyte.gz\n",
            "16384/5148 [===============================================================================================] - 0s 0us/step\n",
            "Downloading data from https://storage.googleapis.com/tensorflow/tf-keras-datasets/t10k-images-idx3-ubyte.gz\n",
            "4423680/4422102 [==============================] - 0s 0us/step\n",
            "4431872/4422102 [==============================] - 0s 0us/step\n"
          ]
        }
      ]
    },
    {
      "cell_type": "markdown",
      "source": [
        "# Base Model"
      ],
      "metadata": {
        "id": "quMMYCOeeVEe"
      }
    },
    {
      "cell_type": "code",
      "source": [
        "def model_builder():\n",
        "  model = keras.Sequential()\n",
        "  model.add(keras.layers.Flatten(input_shape=(28, 28)))\n",
        "  model.add(keras.layers.Dense(units=512, activation='relu'))\n",
        "  model.add(keras.layers.Dense(10))\n",
        "  model.compile(optimizer=keras.optimizers.Adam(learning_rate=0.01),\n",
        "                loss=keras.losses.SparseCategoricalCrossentropy(from_logits=True),\n",
        "                metrics=['accuracy'])\n",
        "\n",
        "  return model"
      ],
      "metadata": {
        "id": "R8GriD14cOX8"
      },
      "execution_count": null,
      "outputs": []
    },
    {
      "cell_type": "code",
      "source": [
        "model = model_builder()\n",
        "history = model.fit(img_train, label_train, epochs=50, validation_split=0.2)\n"
      ],
      "metadata": {
        "colab": {
          "base_uri": "https://localhost:8080/"
        },
        "id": "_m0yhB1HcjW1",
        "outputId": "8099494e-47df-4f9f-b039-1b4223b38675"
      },
      "execution_count": null,
      "outputs": [
        {
          "output_type": "stream",
          "name": "stdout",
          "text": [
            "Epoch 1/50\n",
            "1500/1500 [==============================] - 5s 3ms/step - loss: 0.5896 - accuracy: 0.7848 - val_loss: 0.4686 - val_accuracy: 0.8259\n",
            "Epoch 2/50\n",
            "1500/1500 [==============================] - 5s 3ms/step - loss: 0.4261 - accuracy: 0.8447 - val_loss: 0.4282 - val_accuracy: 0.8407\n",
            "Epoch 3/50\n",
            "1500/1500 [==============================] - 5s 3ms/step - loss: 0.3833 - accuracy: 0.8597 - val_loss: 0.4037 - val_accuracy: 0.8534\n",
            "Epoch 4/50\n",
            "1500/1500 [==============================] - 5s 3ms/step - loss: 0.3558 - accuracy: 0.8691 - val_loss: 0.3841 - val_accuracy: 0.8593\n",
            "Epoch 5/50\n",
            "1500/1500 [==============================] - 5s 3ms/step - loss: 0.3379 - accuracy: 0.8745 - val_loss: 0.3758 - val_accuracy: 0.8597\n",
            "Epoch 6/50\n",
            "1500/1500 [==============================] - 5s 3ms/step - loss: 0.3191 - accuracy: 0.8820 - val_loss: 0.3457 - val_accuracy: 0.8731\n",
            "Epoch 7/50\n",
            "1500/1500 [==============================] - 6s 4ms/step - loss: 0.3087 - accuracy: 0.8842 - val_loss: 0.3465 - val_accuracy: 0.8707\n",
            "Epoch 8/50\n",
            "1500/1500 [==============================] - 5s 3ms/step - loss: 0.2977 - accuracy: 0.8896 - val_loss: 0.3643 - val_accuracy: 0.8657\n",
            "Epoch 9/50\n",
            "1500/1500 [==============================] - 5s 3ms/step - loss: 0.2876 - accuracy: 0.8918 - val_loss: 0.3170 - val_accuracy: 0.8837\n",
            "Epoch 10/50\n",
            "1500/1500 [==============================] - 5s 3ms/step - loss: 0.2789 - accuracy: 0.8956 - val_loss: 0.3247 - val_accuracy: 0.8815\n",
            "Epoch 11/50\n",
            "1500/1500 [==============================] - 5s 3ms/step - loss: 0.2693 - accuracy: 0.8974 - val_loss: 0.3311 - val_accuracy: 0.8799\n",
            "Epoch 12/50\n",
            "1500/1500 [==============================] - 5s 3ms/step - loss: 0.2657 - accuracy: 0.9002 - val_loss: 0.3516 - val_accuracy: 0.8721\n",
            "Epoch 13/50\n",
            "1500/1500 [==============================] - 5s 3ms/step - loss: 0.2550 - accuracy: 0.9046 - val_loss: 0.3285 - val_accuracy: 0.8790\n",
            "Epoch 14/50\n",
            "1500/1500 [==============================] - 5s 3ms/step - loss: 0.2491 - accuracy: 0.9059 - val_loss: 0.3239 - val_accuracy: 0.8870\n",
            "Epoch 15/50\n",
            "1500/1500 [==============================] - 5s 3ms/step - loss: 0.2425 - accuracy: 0.9086 - val_loss: 0.3194 - val_accuracy: 0.8860\n",
            "Epoch 16/50\n",
            "1500/1500 [==============================] - 6s 4ms/step - loss: 0.2379 - accuracy: 0.9095 - val_loss: 0.3396 - val_accuracy: 0.8779\n",
            "Epoch 17/50\n",
            "1500/1500 [==============================] - 5s 3ms/step - loss: 0.2336 - accuracy: 0.9114 - val_loss: 0.3297 - val_accuracy: 0.8839\n",
            "Epoch 18/50\n",
            "1500/1500 [==============================] - 5s 3ms/step - loss: 0.2286 - accuracy: 0.9124 - val_loss: 0.3312 - val_accuracy: 0.8852\n",
            "Epoch 19/50\n",
            "1500/1500 [==============================] - 5s 3ms/step - loss: 0.2213 - accuracy: 0.9165 - val_loss: 0.3314 - val_accuracy: 0.8838\n",
            "Epoch 20/50\n",
            "1500/1500 [==============================] - 5s 3ms/step - loss: 0.2170 - accuracy: 0.9174 - val_loss: 0.3288 - val_accuracy: 0.8876\n",
            "Epoch 21/50\n",
            "1500/1500 [==============================] - 5s 3ms/step - loss: 0.2117 - accuracy: 0.9196 - val_loss: 0.3320 - val_accuracy: 0.8879\n",
            "Epoch 22/50\n",
            "1500/1500 [==============================] - 5s 3ms/step - loss: 0.2080 - accuracy: 0.9205 - val_loss: 0.3139 - val_accuracy: 0.8913\n",
            "Epoch 23/50\n",
            "1500/1500 [==============================] - 5s 3ms/step - loss: 0.2046 - accuracy: 0.9211 - val_loss: 0.3306 - val_accuracy: 0.8900\n",
            "Epoch 24/50\n",
            "1500/1500 [==============================] - 5s 3ms/step - loss: 0.2002 - accuracy: 0.9235 - val_loss: 0.3266 - val_accuracy: 0.8882\n",
            "Epoch 25/50\n",
            "1500/1500 [==============================] - 5s 3ms/step - loss: 0.1946 - accuracy: 0.9252 - val_loss: 0.3289 - val_accuracy: 0.8913\n",
            "Epoch 26/50\n",
            "1500/1500 [==============================] - 6s 4ms/step - loss: 0.1914 - accuracy: 0.9279 - val_loss: 0.3530 - val_accuracy: 0.8849\n",
            "Epoch 27/50\n",
            "1500/1500 [==============================] - 5s 3ms/step - loss: 0.1872 - accuracy: 0.9298 - val_loss: 0.3569 - val_accuracy: 0.8856\n",
            "Epoch 28/50\n",
            "1500/1500 [==============================] - 5s 3ms/step - loss: 0.1858 - accuracy: 0.9296 - val_loss: 0.3428 - val_accuracy: 0.8898\n",
            "Epoch 29/50\n",
            "1500/1500 [==============================] - 5s 3ms/step - loss: 0.1805 - accuracy: 0.9312 - val_loss: 0.3678 - val_accuracy: 0.8864\n",
            "Epoch 30/50\n",
            "1500/1500 [==============================] - 5s 3ms/step - loss: 0.1788 - accuracy: 0.9309 - val_loss: 0.3308 - val_accuracy: 0.8930\n",
            "Epoch 31/50\n",
            "1500/1500 [==============================] - 5s 3ms/step - loss: 0.1724 - accuracy: 0.9340 - val_loss: 0.3689 - val_accuracy: 0.8850\n",
            "Epoch 32/50\n",
            "1500/1500 [==============================] - 5s 3ms/step - loss: 0.1696 - accuracy: 0.9359 - val_loss: 0.3650 - val_accuracy: 0.8854\n",
            "Epoch 33/50\n",
            "1500/1500 [==============================] - 5s 3ms/step - loss: 0.1676 - accuracy: 0.9358 - val_loss: 0.3433 - val_accuracy: 0.8918\n",
            "Epoch 34/50\n",
            "1500/1500 [==============================] - 5s 3ms/step - loss: 0.1640 - accuracy: 0.9379 - val_loss: 0.3662 - val_accuracy: 0.8879\n",
            "Epoch 35/50\n",
            "1500/1500 [==============================] - 5s 3ms/step - loss: 0.1589 - accuracy: 0.9392 - val_loss: 0.3573 - val_accuracy: 0.8915\n",
            "Epoch 36/50\n",
            "1500/1500 [==============================] - 5s 3ms/step - loss: 0.1597 - accuracy: 0.9397 - val_loss: 0.3573 - val_accuracy: 0.8920\n",
            "Epoch 37/50\n",
            "1500/1500 [==============================] - 5s 3ms/step - loss: 0.1551 - accuracy: 0.9413 - val_loss: 0.3600 - val_accuracy: 0.8924\n",
            "Epoch 38/50\n",
            "1500/1500 [==============================] - 5s 3ms/step - loss: 0.1550 - accuracy: 0.9401 - val_loss: 0.3808 - val_accuracy: 0.8912\n",
            "Epoch 39/50\n",
            "1500/1500 [==============================] - 6s 4ms/step - loss: 0.1488 - accuracy: 0.9438 - val_loss: 0.3677 - val_accuracy: 0.8920\n",
            "Epoch 40/50\n",
            "1500/1500 [==============================] - 6s 4ms/step - loss: 0.1512 - accuracy: 0.9424 - val_loss: 0.3612 - val_accuracy: 0.8917\n",
            "Epoch 41/50\n",
            "1500/1500 [==============================] - 5s 3ms/step - loss: 0.1465 - accuracy: 0.9443 - val_loss: 0.3978 - val_accuracy: 0.8850\n",
            "Epoch 42/50\n",
            "1500/1500 [==============================] - 5s 3ms/step - loss: 0.1440 - accuracy: 0.9445 - val_loss: 0.3721 - val_accuracy: 0.8919\n",
            "Epoch 43/50\n",
            "1500/1500 [==============================] - 5s 3ms/step - loss: 0.1408 - accuracy: 0.9462 - val_loss: 0.3889 - val_accuracy: 0.8913\n",
            "Epoch 44/50\n",
            "1500/1500 [==============================] - 6s 4ms/step - loss: 0.1393 - accuracy: 0.9470 - val_loss: 0.3890 - val_accuracy: 0.8888\n",
            "Epoch 45/50\n",
            "1500/1500 [==============================] - 6s 4ms/step - loss: 0.1387 - accuracy: 0.9464 - val_loss: 0.3857 - val_accuracy: 0.8886\n",
            "Epoch 46/50\n",
            "1500/1500 [==============================] - 5s 3ms/step - loss: 0.1345 - accuracy: 0.9486 - val_loss: 0.3876 - val_accuracy: 0.8889\n",
            "Epoch 47/50\n",
            "1500/1500 [==============================] - 6s 4ms/step - loss: 0.1323 - accuracy: 0.9492 - val_loss: 0.4238 - val_accuracy: 0.8828\n",
            "Epoch 48/50\n",
            "1500/1500 [==============================] - 6s 4ms/step - loss: 0.1307 - accuracy: 0.9504 - val_loss: 0.3894 - val_accuracy: 0.8936\n",
            "Epoch 49/50\n",
            "1500/1500 [==============================] - 5s 3ms/step - loss: 0.1265 - accuracy: 0.9519 - val_loss: 0.4039 - val_accuracy: 0.8907\n",
            "Epoch 50/50\n",
            "1500/1500 [==============================] - 6s 4ms/step - loss: 0.1271 - accuracy: 0.9504 - val_loss: 0.3988 - val_accuracy: 0.8905\n"
          ]
        }
      ]
    },
    {
      "cell_type": "markdown",
      "source": [
        "# Keras Tuner"
      ],
      "metadata": {
        "id": "-V06erkwaQdd"
      }
    },
    {
      "cell_type": "markdown",
      "source": [
        "as it wrote in the doc, number of hidden neurons should be between 16 and 512 with step size = 16\n",
        "\n",
        "and also learning rate must be one of 0.01, 0.0001, 0.0005, 0.005\n",
        "\n"
      ],
      "metadata": {
        "id": "XEJldquS5P_o"
      }
    },
    {
      "cell_type": "code",
      "source": [
        "def create_model(hp):\n",
        "    model = keras.Sequential()\n",
        "    model.add(keras.layers.Flatten(input_shape=(28, 28)))\n",
        "\n",
        "    model.add(keras.layers.Dense(units=hp.Int('dense',\n",
        "                                              min_value = 16,\n",
        "                                              max_value = 512,\n",
        "                                              step = 16)\n",
        "                                 , activation='relu'))\n",
        "    \n",
        "    model.add(keras.layers.Dense(10))\n",
        "    learning_rates = [5e-3, 5e-4, 1e-2, 1e-3, 1e-4]\n",
        "    opt = keras.optimizers.Adam(learning_rate =hp.Choice('lr', values= learning_rates))\n",
        "    model.compile(optimizer=opt,\n",
        "                  loss=keras.losses.SparseCategoricalCrossentropy(from_logits=True),\n",
        "                  metrics=['accuracy'])\n",
        "    \n",
        "    return model"
      ],
      "metadata": {
        "id": "EBLh4qJYRuF3"
      },
      "execution_count": null,
      "outputs": []
    },
    {
      "cell_type": "code",
      "source": [
        "!rm -rf /content/fashion_mnist"
      ],
      "metadata": {
        "id": "82J0SiVBFRYj"
      },
      "execution_count": null,
      "outputs": []
    },
    {
      "cell_type": "code",
      "source": [
        "tuner = BayesianOptimization(\n",
        "        create_model,\n",
        "        objective='val_accuracy',\n",
        "        max_trials=10,\n",
        "        executions_per_trial=1,\n",
        "        directory='fashion_mnist',\n",
        "        project_name='KerasTuner')"
      ],
      "metadata": {
        "id": "ziTydeV6RxWJ"
      },
      "execution_count": null,
      "outputs": []
    },
    {
      "cell_type": "code",
      "source": [
        "NUM_EPOCH = 50\n",
        "tuner.search(x=img_train,\n",
        "             y=label_train,\n",
        "             epochs=NUM_EPOCH,\n",
        "             batch_size=128,\n",
        "             validation_split= 0.2)\n",
        "\n",
        "print('**' * 50)\n",
        "print(tuner.get_best_models()[0].summary())\n",
        "print(tuner.get_best_hyperparameters()[0].values)"
      ],
      "metadata": {
        "id": "tEpb2owlR6kr",
        "colab": {
          "base_uri": "https://localhost:8080/"
        },
        "outputId": "cd73d483-803a-40d9-be95-1a79eeb48066"
      },
      "execution_count": null,
      "outputs": [
        {
          "output_type": "stream",
          "name": "stdout",
          "text": [
            "Trial 10 Complete [00h 01m 22s]\n",
            "val_accuracy: 0.8933333158493042\n",
            "\n",
            "Best val_accuracy So Far: 0.8974999785423279\n",
            "Total elapsed time: 00h 13m 40s\n",
            "INFO:tensorflow:Oracle triggered exit\n",
            "****************************************************************************************************\n",
            "Model: \"sequential\"\n",
            "_________________________________________________________________\n",
            " Layer (type)                Output Shape              Param #   \n",
            "=================================================================\n",
            " flatten (Flatten)           (None, 784)               0         \n",
            "                                                                 \n",
            " dense (Dense)               (None, 512)               401920    \n",
            "                                                                 \n",
            " dense_1 (Dense)             (None, 10)                5130      \n",
            "                                                                 \n",
            "=================================================================\n",
            "Total params: 407,050\n",
            "Trainable params: 407,050\n",
            "Non-trainable params: 0\n",
            "_________________________________________________________________\n",
            "WARNING:tensorflow:Unresolved object in checkpoint: (root).optimizer.iter\n",
            "WARNING:tensorflow:Unresolved object in checkpoint: (root).optimizer.beta_1\n",
            "WARNING:tensorflow:Unresolved object in checkpoint: (root).optimizer.beta_2\n",
            "WARNING:tensorflow:Unresolved object in checkpoint: (root).optimizer.decay\n",
            "WARNING:tensorflow:Unresolved object in checkpoint: (root).optimizer.learning_rate\n",
            "WARNING:tensorflow:A checkpoint was restored (e.g. tf.train.Checkpoint.restore or tf.keras.Model.load_weights) but not all checkpointed values were used. See above for specific issues. Use expect_partial() on the load status object, e.g. tf.train.Checkpoint.restore(...).expect_partial(), to silence these warnings, or use assert_consumed() to make the check explicit. See https://www.tensorflow.org/guide/checkpoint#loading_mechanics for details.\n",
            "None\n",
            "{'dense': 512, 'lr': 0.005}\n"
          ]
        }
      ]
    },
    {
      "cell_type": "code",
      "source": [
        "# get the best model and evalute it on the test data\n",
        "model = tuner.get_best_models(num_models=1)[0]\n",
        "print (model.summary())\n",
        "# Evaluate the best model.\n",
        "loss, accuracy = model.evaluate(img_test, label_test)\n",
        "print('loss Test:', loss)\n",
        "print('accuracy Test:', accuracy)\n",
        "model.save('prueba1.h5')"
      ],
      "metadata": {
        "id": "9KGDpAc5SG8_",
        "colab": {
          "base_uri": "https://localhost:8080/"
        },
        "outputId": "b82dce7b-6c2e-48e7-8df8-60a1887b5ef5"
      },
      "execution_count": null,
      "outputs": [
        {
          "output_type": "stream",
          "name": "stdout",
          "text": [
            "Model: \"sequential\"\n",
            "_________________________________________________________________\n",
            " Layer (type)                Output Shape              Param #   \n",
            "=================================================================\n",
            " flatten (Flatten)           (None, 784)               0         \n",
            "                                                                 \n",
            " dense (Dense)               (None, 512)               401920    \n",
            "                                                                 \n",
            " dense_1 (Dense)             (None, 10)                5130      \n",
            "                                                                 \n",
            "=================================================================\n",
            "Total params: 407,050\n",
            "Trainable params: 407,050\n",
            "Non-trainable params: 0\n",
            "_________________________________________________________________\n",
            "None\n",
            "313/313 [==============================] - 1s 3ms/step - loss: 0.3381 - accuracy: 0.8888\n",
            "loss Test: 0.33807000517845154\n",
            "accuracy Test: 0.8888000249862671\n"
          ]
        }
      ]
    },
    {
      "cell_type": "code",
      "source": [
        "loss, accuracy = model.evaluate(img_train, label_train)\n",
        "print('loss Train:', loss)\n",
        "print('accuracy Train:', accuracy)"
      ],
      "metadata": {
        "colab": {
          "base_uri": "https://localhost:8080/"
        },
        "id": "XUxHqUSu_V-Y",
        "outputId": "0b803cab-ba9b-43b2-8892-d0687d9c358b"
      },
      "execution_count": null,
      "outputs": [
        {
          "output_type": "stream",
          "name": "stdout",
          "text": [
            "1875/1875 [==============================] - 5s 3ms/step - loss: 0.1856 - accuracy: 0.9349\n",
            "loss Train: 0.18558098375797272\n",
            "accuracy Train: 0.9348999857902527\n"
          ]
        }
      ]
    }
  ]
}