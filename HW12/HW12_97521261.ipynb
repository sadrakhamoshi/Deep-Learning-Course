{
  "nbformat": 4,
  "nbformat_minor": 0,
  "metadata": {
    "colab": {
      "name": "HW12_97521261.ipynb",
      "provenance": [],
      "collapsed_sections": [
        "GQqzcLRJoyVH",
        "YszZ4qWuPf0f",
        "qPdAZeGAVCt9",
        "F1dIubKmdpzr"
      ],
      "toc_visible": true
    },
    "kernelspec": {
      "name": "python3",
      "display_name": "Python 3"
    },
    "language_info": {
      "name": "python"
    }
  },
  "cells": [
    {
      "cell_type": "code",
      "source": [
        "!pip install yfinance -q"
      ],
      "metadata": {
        "id": "6Qee3IWBnZqr",
        "colab": {
          "base_uri": "https://localhost:8080/"
        },
        "outputId": "f017328f-595e-49e2-b05c-b467eda7cfee"
      },
      "execution_count": 1,
      "outputs": [
        {
          "output_type": "stream",
          "name": "stdout",
          "text": [
            "\u001b[K     |████████████████████████████████| 6.4 MB 7.5 MB/s \n",
            "\u001b[?25h"
          ]
        }
      ]
    },
    {
      "cell_type": "markdown",
      "source": [
        "# Q1\n"
      ],
      "metadata": {
        "id": "t0psZetAouQX"
      }
    },
    {
      "cell_type": "code",
      "source": [
        "# imports\n",
        "import numpy as np\n",
        "import yfinance as yf\n",
        "import tensorflow as tf\n",
        "from matplotlib import pyplot as plt\n",
        "from sklearn.preprocessing import MinMaxScaler\n",
        "from tensorflow.keras import models, layers"
      ],
      "metadata": {
        "id": "Z2jmUkSwwUOU"
      },
      "execution_count": 2,
      "outputs": []
    },
    {
      "cell_type": "markdown",
      "source": [
        "### download train and test data"
      ],
      "metadata": {
        "id": "6jfZRMlgoUef"
      }
    },
    {
      "cell_type": "code",
      "source": [
        "train_df = yf.download(tickers= 'BTC-USD', start=\"2014-01-01\" ,end=\"2021-09-01\")\n",
        "test_df = yf.download(tickers= 'BTC-USD', start= \"2021-09-01\", end=\"2021-12-25\")\n",
        "train_df.head()"
      ],
      "metadata": {
        "colab": {
          "base_uri": "https://localhost:8080/",
          "height": 272
        },
        "id": "x8FzXfkZ3oFO",
        "outputId": "4b915cea-fe74-4fe5-80a8-0ca7e95253b7"
      },
      "execution_count": 5,
      "outputs": [
        {
          "output_type": "stream",
          "name": "stdout",
          "text": [
            "[*********************100%***********************]  1 of 1 completed\n",
            "[*********************100%***********************]  1 of 1 completed\n"
          ]
        },
        {
          "output_type": "execute_result",
          "data": {
            "text/html": [
              "\n",
              "  <div id=\"df-5760d2e0-4eb6-4221-9f8b-e1f247054c97\">\n",
              "    <div class=\"colab-df-container\">\n",
              "      <div>\n",
              "<style scoped>\n",
              "    .dataframe tbody tr th:only-of-type {\n",
              "        vertical-align: middle;\n",
              "    }\n",
              "\n",
              "    .dataframe tbody tr th {\n",
              "        vertical-align: top;\n",
              "    }\n",
              "\n",
              "    .dataframe thead th {\n",
              "        text-align: right;\n",
              "    }\n",
              "</style>\n",
              "<table border=\"1\" class=\"dataframe\">\n",
              "  <thead>\n",
              "    <tr style=\"text-align: right;\">\n",
              "      <th></th>\n",
              "      <th>Open</th>\n",
              "      <th>High</th>\n",
              "      <th>Low</th>\n",
              "      <th>Close</th>\n",
              "      <th>Adj Close</th>\n",
              "      <th>Volume</th>\n",
              "    </tr>\n",
              "    <tr>\n",
              "      <th>Date</th>\n",
              "      <th></th>\n",
              "      <th></th>\n",
              "      <th></th>\n",
              "      <th></th>\n",
              "      <th></th>\n",
              "      <th></th>\n",
              "    </tr>\n",
              "  </thead>\n",
              "  <tbody>\n",
              "    <tr>\n",
              "      <th>2017-11-09</th>\n",
              "      <td>7446.830078</td>\n",
              "      <td>7446.830078</td>\n",
              "      <td>7101.520020</td>\n",
              "      <td>7143.580078</td>\n",
              "      <td>7143.580078</td>\n",
              "      <td>3226249984</td>\n",
              "    </tr>\n",
              "    <tr>\n",
              "      <th>2017-11-10</th>\n",
              "      <td>7173.729980</td>\n",
              "      <td>7312.000000</td>\n",
              "      <td>6436.870117</td>\n",
              "      <td>6618.140137</td>\n",
              "      <td>6618.140137</td>\n",
              "      <td>5208249856</td>\n",
              "    </tr>\n",
              "    <tr>\n",
              "      <th>2017-11-11</th>\n",
              "      <td>6618.609863</td>\n",
              "      <td>6873.149902</td>\n",
              "      <td>6204.220215</td>\n",
              "      <td>6357.600098</td>\n",
              "      <td>6357.600098</td>\n",
              "      <td>4908680192</td>\n",
              "    </tr>\n",
              "    <tr>\n",
              "      <th>2017-11-12</th>\n",
              "      <td>6295.450195</td>\n",
              "      <td>6625.049805</td>\n",
              "      <td>5519.009766</td>\n",
              "      <td>5950.069824</td>\n",
              "      <td>5950.069824</td>\n",
              "      <td>8957349888</td>\n",
              "    </tr>\n",
              "    <tr>\n",
              "      <th>2017-11-13</th>\n",
              "      <td>5938.250000</td>\n",
              "      <td>6811.189941</td>\n",
              "      <td>5844.290039</td>\n",
              "      <td>6559.490234</td>\n",
              "      <td>6559.490234</td>\n",
              "      <td>6263249920</td>\n",
              "    </tr>\n",
              "  </tbody>\n",
              "</table>\n",
              "</div>\n",
              "      <button class=\"colab-df-convert\" onclick=\"convertToInteractive('df-5760d2e0-4eb6-4221-9f8b-e1f247054c97')\"\n",
              "              title=\"Convert this dataframe to an interactive table.\"\n",
              "              style=\"display:none;\">\n",
              "        \n",
              "  <svg xmlns=\"http://www.w3.org/2000/svg\" height=\"24px\"viewBox=\"0 0 24 24\"\n",
              "       width=\"24px\">\n",
              "    <path d=\"M0 0h24v24H0V0z\" fill=\"none\"/>\n",
              "    <path d=\"M18.56 5.44l.94 2.06.94-2.06 2.06-.94-2.06-.94-.94-2.06-.94 2.06-2.06.94zm-11 1L8.5 8.5l.94-2.06 2.06-.94-2.06-.94L8.5 2.5l-.94 2.06-2.06.94zm10 10l.94 2.06.94-2.06 2.06-.94-2.06-.94-.94-2.06-.94 2.06-2.06.94z\"/><path d=\"M17.41 7.96l-1.37-1.37c-.4-.4-.92-.59-1.43-.59-.52 0-1.04.2-1.43.59L10.3 9.45l-7.72 7.72c-.78.78-.78 2.05 0 2.83L4 21.41c.39.39.9.59 1.41.59.51 0 1.02-.2 1.41-.59l7.78-7.78 2.81-2.81c.8-.78.8-2.07 0-2.86zM5.41 20L4 18.59l7.72-7.72 1.47 1.35L5.41 20z\"/>\n",
              "  </svg>\n",
              "      </button>\n",
              "      \n",
              "  <style>\n",
              "    .colab-df-container {\n",
              "      display:flex;\n",
              "      flex-wrap:wrap;\n",
              "      gap: 12px;\n",
              "    }\n",
              "\n",
              "    .colab-df-convert {\n",
              "      background-color: #E8F0FE;\n",
              "      border: none;\n",
              "      border-radius: 50%;\n",
              "      cursor: pointer;\n",
              "      display: none;\n",
              "      fill: #1967D2;\n",
              "      height: 32px;\n",
              "      padding: 0 0 0 0;\n",
              "      width: 32px;\n",
              "    }\n",
              "\n",
              "    .colab-df-convert:hover {\n",
              "      background-color: #E2EBFA;\n",
              "      box-shadow: 0px 1px 2px rgba(60, 64, 67, 0.3), 0px 1px 3px 1px rgba(60, 64, 67, 0.15);\n",
              "      fill: #174EA6;\n",
              "    }\n",
              "\n",
              "    [theme=dark] .colab-df-convert {\n",
              "      background-color: #3B4455;\n",
              "      fill: #D2E3FC;\n",
              "    }\n",
              "\n",
              "    [theme=dark] .colab-df-convert:hover {\n",
              "      background-color: #434B5C;\n",
              "      box-shadow: 0px 1px 3px 1px rgba(0, 0, 0, 0.15);\n",
              "      filter: drop-shadow(0px 1px 2px rgba(0, 0, 0, 0.3));\n",
              "      fill: #FFFFFF;\n",
              "    }\n",
              "  </style>\n",
              "\n",
              "      <script>\n",
              "        const buttonEl =\n",
              "          document.querySelector('#df-5760d2e0-4eb6-4221-9f8b-e1f247054c97 button.colab-df-convert');\n",
              "        buttonEl.style.display =\n",
              "          google.colab.kernel.accessAllowed ? 'block' : 'none';\n",
              "\n",
              "        async function convertToInteractive(key) {\n",
              "          const element = document.querySelector('#df-5760d2e0-4eb6-4221-9f8b-e1f247054c97');\n",
              "          const dataTable =\n",
              "            await google.colab.kernel.invokeFunction('convertToInteractive',\n",
              "                                                     [key], {});\n",
              "          if (!dataTable) return;\n",
              "\n",
              "          const docLinkHtml = 'Like what you see? Visit the ' +\n",
              "            '<a target=\"_blank\" href=https://colab.research.google.com/notebooks/data_table.ipynb>data table notebook</a>'\n",
              "            + ' to learn more about interactive tables.';\n",
              "          element.innerHTML = '';\n",
              "          dataTable['output_type'] = 'display_data';\n",
              "          await google.colab.output.renderOutput(dataTable, element);\n",
              "          const docLink = document.createElement('div');\n",
              "          docLink.innerHTML = docLinkHtml;\n",
              "          element.appendChild(docLink);\n",
              "        }\n",
              "      </script>\n",
              "    </div>\n",
              "  </div>\n",
              "  "
            ],
            "text/plain": [
              "                   Open         High  ...    Adj Close      Volume\n",
              "Date                                  ...                         \n",
              "2017-11-09  7446.830078  7446.830078  ...  7143.580078  3226249984\n",
              "2017-11-10  7173.729980  7312.000000  ...  6618.140137  5208249856\n",
              "2017-11-11  6618.609863  6873.149902  ...  6357.600098  4908680192\n",
              "2017-11-12  6295.450195  6625.049805  ...  5950.069824  8957349888\n",
              "2017-11-13  5938.250000  6811.189941  ...  6559.490234  6263249920\n",
              "\n",
              "[5 rows x 6 columns]"
            ]
          },
          "metadata": {},
          "execution_count": 5
        }
      ]
    },
    {
      "cell_type": "markdown",
      "source": [
        "### vizualize data\n"
      ],
      "metadata": {
        "id": "pxmrrzMLn30Y"
      }
    },
    {
      "cell_type": "markdown",
      "source": [
        "here we try TO PLOT the train and test dataset in a figure.we plot dataframes and our x_label is the Date and our y_label is the price of bitcoin."
      ],
      "metadata": {
        "id": "FXFuoqQU6EIe"
      }
    },
    {
      "cell_type": "code",
      "source": [
        "from pandas.core.frame import DataFrame\n",
        "def plot_data(df1 : DataFrame, df2: DataFrame):\n",
        "    plt.figure(figsize=(20, 5))\n",
        "    df1.Close.plot()\n",
        "    df2.Close.plot()\n",
        "    plt.xlabel('DATE')\n",
        "    plt.ylabel('CLOSE')\n",
        "    plt.legend(['train', 'test'])\n",
        "    plt.grid(True)\n",
        "    plt.show()\n",
        "\n",
        "plot_data(train_df, test_df)"
      ],
      "metadata": {
        "id": "HYLJKZ7ooyMn",
        "colab": {
          "base_uri": "https://localhost:8080/",
          "height": 335
        },
        "outputId": "2ae4d986-daf5-4a5f-feba-53408a2e7677"
      },
      "execution_count": 7,
      "outputs": [
        {
          "output_type": "display_data",
          "data": {
            "image/png": "[encoded data removed]",
            "text/plain": [
              "<Figure size 1440x360 with 1 Axes>"
            ]
          },
          "metadata": {
            "needs_background": "light"
          }
        }
      ]
    },
    {
      "cell_type": "markdown",
      "source": [
        "### preprocessing data"
      ],
      "metadata": {
        "id": "YEE3TaQl7CRE"
      }
    },
    {
      "cell_type": "markdown",
      "source": [
        "First of all we reshape it and convert train dataframe and test dataframe to a numpy array"
      ],
      "metadata": {
        "id": "1Q_ubM2bBoRS"
      }
    },
    {
      "cell_type": "code",
      "source": [
        "import pandas as pd\n",
        "train_data = train_df.Close.values.reshape(-1, 1)\n",
        "test_data = test_df.Close.values.reshape(-1, 1)\n",
        "print('train_data shape is : {}'.format(train_data.shape))\n",
        "print('test_data shape is : {}'.format(test_data.shape))\n"
      ],
      "metadata": {
        "colab": {
          "base_uri": "https://localhost:8080/"
        },
        "id": "0AC5-5NZ7KC7",
        "outputId": "812751f8-4c79-46cf-968e-0541f73294a8"
      },
      "execution_count": 8,
      "outputs": [
        {
          "output_type": "stream",
          "name": "stdout",
          "text": [
            "train_data shape is : (1393, 1)\n",
            "test_data shape is : (116, 1)\n"
          ]
        }
      ]
    },
    {
      "cell_type": "markdown",
      "source": [
        "It’s a good idea to normalize the data before model fitting. This will boost the performance. as it mentioned in the documentation we use the Min-Max Scaler from sklearn.preprocessing module. For that, we first concatenate the train and test data set and then map whole data between 0, 1 and finally we split them to train and test dataset again."
      ],
      "metadata": {
        "id": "lsaF1-79B_Vp"
      }
    },
    {
      "cell_type": "code",
      "source": [
        "con_data = np.concatenate((train_data, test_data))\n",
        "\n",
        "sc = MinMaxScaler(feature_range = (0, 1))\n",
        "con_scaled = sc.fit_transform(con_data)\n",
        "\n",
        "print('max : {}\\tmin : {}'.format(np.max(con_scaled), np.min(con_scaled)))"
      ],
      "metadata": {
        "colab": {
          "base_uri": "https://localhost:8080/"
        },
        "id": "ZimQoFMsChzk",
        "outputId": "fe96b945-e675-424c-93be-83e2a92e73f3"
      },
      "execution_count": 9,
      "outputs": [
        {
          "output_type": "stream",
          "name": "stdout",
          "text": [
            "max : 1.0\tmin : 0.0\n"
          ]
        }
      ]
    },
    {
      "cell_type": "code",
      "source": [
        "train_data_scaled = con_scaled[:len(train_data)]\n",
        "test_data_scaled = con_scaled[-len(test_data):]\n",
        "\n",
        "print('train_data_scaled shape : {}\\tmax : {}\\tmin : {}'.format(train_data_scaled.shape, np.max(train_data_scaled), np.min(train_data_scaled)))\n",
        "print('test_data_scaled shape : {}\\tmax : {}\\tmin : {}'.format(test_data_scaled.shape, np.max(test_data_scaled), np.min(test_data_scaled)))"
      ],
      "metadata": {
        "colab": {
          "base_uri": "https://localhost:8080/"
        },
        "id": "4wTKw-CyDKwp",
        "outputId": "2f518731-41c9-49e6-a97a-198fe80a58db"
      },
      "execution_count": 10,
      "outputs": [
        {
          "output_type": "stream",
          "name": "stdout",
          "text": [
            "train_data_scaled shape : (1393, 1)\tmax : 0.9368355837208459\tmin : 0.0\n",
            "test_data_scaled shape : (116, 1)\tmax : 1.0\tmin : 0.5822613927670509\n"
          ]
        }
      ]
    },
    {
      "cell_type": "markdown",
      "source": [
        "### prepare input feature for training and test model\n"
      ],
      "metadata": {
        "id": "2JL3deUvEZ1-"
      }
    },
    {
      "cell_type": "markdown",
      "source": [
        "in the below cell we create X_trin , y_train for training model. it's important that know, for X_train we should use price after day 60 to use it as sequence for input features so our X_train will have : 2542 - 60 = 2482 length. "
      ],
      "metadata": {
        "id": "ac8lGuAQLWza"
      }
    },
    {
      "cell_type": "code",
      "source": [
        "look_back = 60\n",
        "train_data_size = len(train_data_scaled)\n",
        "X_train = []\n",
        "y_train = []\n",
        "for i in range(look_back, train_data_size):\n",
        "    X_train.append(train_data_scaled[i - look_back : i, 0])\n",
        "    y_train.append(train_data_scaled[i, 0])\n",
        "X_train, y_train = np.array(X_train), np.array(y_train)\n",
        "X_train = np.reshape(X_train, (X_train.shape[0], X_train.shape[1], 1))\n",
        "\n",
        "print('X_train shape : {} '.format(X_train.shape))\n",
        "print('y_train shape : {} '.format(y_train.shape))"
      ],
      "metadata": {
        "colab": {
          "base_uri": "https://localhost:8080/"
        },
        "id": "jSn7odw5F051",
        "outputId": "8df3c7da-2987-4582-b25e-2f5bcfb28020"
      },
      "execution_count": 11,
      "outputs": [
        {
          "output_type": "stream",
          "name": "stdout",
          "text": [
            "X_train shape : (1333, 60, 1) \n",
            "y_train shape : (1333,) \n"
          ]
        }
      ]
    },
    {
      "cell_type": "markdown",
      "source": [
        "for preparing test data agian we use above aproach. but for predicting days in the test dataset we need previous 60 days. so first we concatenate last 60 days in the train dataset with the "
      ],
      "metadata": {
        "id": "Vth8UrJpL7Dq"
      }
    },
    {
      "cell_type": "code",
      "source": [
        "test_len = len(test_data_scaled)\n",
        "concatenate_data = np.concatenate((train_data_scaled[len(train_data_scaled)-look_back:], test_data_scaled))\n",
        "X_test = []\n",
        "y_test = test_data.copy()\n",
        "for i in range(test_len):\n",
        "  temp = 0\n",
        "  X_test.append(concatenate_data[i:i+look_back])\n",
        "x_test = np.array(X_test)\n",
        "print('x_test shape : {}'.format(x_test.shape))\n",
        "print('y_test shape : {}'.format(y_test.shape))\n"
      ],
      "metadata": {
        "colab": {
          "base_uri": "https://localhost:8080/"
        },
        "id": "wGKpMj9UMA8g",
        "outputId": "1740c7c1-1987-4822-cc77-9bbe0f3c3a7f"
      },
      "execution_count": 12,
      "outputs": [
        {
          "output_type": "stream",
          "name": "stdout",
          "text": [
            "x_test shape : (116, 60, 1)\n",
            "y_test shape : (116, 1)\n"
          ]
        }
      ]
    },
    {
      "cell_type": "markdown",
      "source": [
        "### define model\n"
      ],
      "metadata": {
        "id": "_-4RwHAXKlHD"
      }
    },
    {
      "cell_type": "markdown",
      "source": [
        "In here we define a RNN model with LSTM layers as it said in the documention. and also define some constant variable for training the model like loss function, optimizer, epochs  "
      ],
      "metadata": {
        "id": "f0JEkZsYKvrL"
      }
    },
    {
      "cell_type": "code",
      "source": [
        "EPOCHS = 100\n",
        "LOSS = 'mean_squared_error'\n",
        "OPTIMIZER = 'adam'\n",
        "BATCH_SIZE = 32\n",
        "\n",
        "def create_model():\n",
        "    model = models.Sequential()\n",
        "    model.add(layers.Input((look_back, 1)))\n",
        "    model.add(layers.LSTM(units=50, return_sequences=True))\n",
        "    model.add(layers.Dropout(0.2))\n",
        "    model.add(layers.LSTM(units=50, return_sequences=True))\n",
        "    model.add(layers.Dropout(0.2))\n",
        "    model.add(layers.LSTM(units=50, return_sequences=True))\n",
        "    model.add(layers.Dropout(0.2))\n",
        "    model.add(layers.LSTM(units=50, return_sequences=False))\n",
        "    model.add(layers.Dense(1))\n",
        "    \n",
        "    model.compile(OPTIMIZER, LOSS)\n",
        "    print(model.summary())\n",
        "\n",
        "    return model\n",
        "\n",
        "model = create_model()\n"
      ],
      "metadata": {
        "colab": {
          "base_uri": "https://localhost:8080/"
        },
        "id": "IeBsgNU5KoYR",
        "outputId": "496b7cdb-d2e4-432a-8f0e-ef09510de3fd"
      },
      "execution_count": 13,
      "outputs": [
        {
          "output_type": "stream",
          "name": "stdout",
          "text": [
            "Model: \"sequential\"\n",
            "_________________________________________________________________\n",
            " Layer (type)                Output Shape              Param #   \n",
            "=================================================================\n",
            " lstm (LSTM)                 (None, 60, 50)            10400     \n",
            "                                                                 \n",
            " dropout (Dropout)           (None, 60, 50)            0         \n",
            "                                                                 \n",
            " lstm_1 (LSTM)               (None, 60, 50)            20200     \n",
            "                                                                 \n",
            " dropout_1 (Dropout)         (None, 60, 50)            0         \n",
            "                                                                 \n",
            " lstm_2 (LSTM)               (None, 60, 50)            20200     \n",
            "                                                                 \n",
            " dropout_2 (Dropout)         (None, 60, 50)            0         \n",
            "                                                                 \n",
            " lstm_3 (LSTM)               (None, 50)                20200     \n",
            "                                                                 \n",
            " dense (Dense)               (None, 1)                 51        \n",
            "                                                                 \n",
            "=================================================================\n",
            "Total params: 71,051\n",
            "Trainable params: 71,051\n",
            "Non-trainable params: 0\n",
            "_________________________________________________________________\n",
            "None\n"
          ]
        }
      ]
    },
    {
      "cell_type": "markdown",
      "source": [
        "now we train model with train data"
      ],
      "metadata": {
        "id": "0p-ATAShtdMq"
      }
    },
    {
      "cell_type": "code",
      "source": [
        "model.fit(X_train, y_train, BATCH_SIZE, EPOCHS)"
      ],
      "metadata": {
        "id": "jao3i85TthV3",
        "colab": {
          "base_uri": "https://localhost:8080/"
        },
        "outputId": "46a84ba7-5efc-4839-fe2e-b59612a89050"
      },
      "execution_count": 14,
      "outputs": [
        {
          "output_type": "stream",
          "name": "stdout",
          "text": [
            "Epoch 1/100\n",
            "42/42 [==============================] - 13s 61ms/step - loss: 0.0115\n",
            "Epoch 2/100\n",
            "42/42 [==============================] - 3s 62ms/step - loss: 0.0032\n",
            "Epoch 3/100\n",
            "42/42 [==============================] - 3s 61ms/step - loss: 0.0024\n",
            "Epoch 4/100\n",
            "42/42 [==============================] - 3s 61ms/step - loss: 0.0021\n",
            "Epoch 5/100\n",
            "42/42 [==============================] - 3s 61ms/step - loss: 0.0018\n",
            "Epoch 6/100\n",
            "42/42 [==============================] - 3s 61ms/step - loss: 0.0018\n",
            "Epoch 7/100\n",
            "42/42 [==============================] - 3s 61ms/step - loss: 0.0021\n",
            "Epoch 8/100\n",
            "42/42 [==============================] - 3s 61ms/step - loss: 0.0024\n",
            "Epoch 9/100\n",
            "42/42 [==============================] - 3s 62ms/step - loss: 0.0019\n",
            "Epoch 10/100\n",
            "42/42 [==============================] - 3s 62ms/step - loss: 0.0017\n",
            "Epoch 11/100\n",
            "42/42 [==============================] - 3s 62ms/step - loss: 0.0015\n",
            "Epoch 12/100\n",
            "42/42 [==============================] - 3s 62ms/step - loss: 0.0015\n",
            "Epoch 13/100\n",
            "42/42 [==============================] - 3s 61ms/step - loss: 0.0014\n",
            "Epoch 14/100\n",
            "42/42 [==============================] - 3s 61ms/step - loss: 0.0015\n",
            "Epoch 15/100\n",
            "42/42 [==============================] - 3s 61ms/step - loss: 0.0012\n",
            "Epoch 16/100\n",
            "42/42 [==============================] - 3s 62ms/step - loss: 0.0013\n",
            "Epoch 17/100\n",
            "42/42 [==============================] - 3s 61ms/step - loss: 0.0010\n",
            "Epoch 18/100\n",
            "42/42 [==============================] - 3s 62ms/step - loss: 0.0011\n",
            "Epoch 19/100\n",
            "42/42 [==============================] - 3s 62ms/step - loss: 0.0010\n",
            "Epoch 20/100\n",
            "42/42 [==============================] - 3s 61ms/step - loss: 0.0010\n",
            "Epoch 21/100\n",
            "42/42 [==============================] - 3s 61ms/step - loss: 0.0011\n",
            "Epoch 22/100\n",
            "42/42 [==============================] - 3s 62ms/step - loss: 7.8525e-04\n",
            "Epoch 23/100\n",
            "42/42 [==============================] - 3s 61ms/step - loss: 8.7629e-04\n",
            "Epoch 24/100\n",
            "42/42 [==============================] - 3s 61ms/step - loss: 0.0010\n",
            "Epoch 25/100\n",
            "42/42 [==============================] - 3s 66ms/step - loss: 9.4090e-04\n",
            "Epoch 26/100\n",
            "42/42 [==============================] - 3s 69ms/step - loss: 8.5480e-04\n",
            "Epoch 27/100\n",
            "42/42 [==============================] - 3s 69ms/step - loss: 8.5668e-04\n",
            "Epoch 28/100\n",
            "42/42 [==============================] - 3s 69ms/step - loss: 9.2678e-04\n",
            "Epoch 29/100\n",
            "42/42 [==============================] - 3s 70ms/step - loss: 8.9342e-04\n",
            "Epoch 30/100\n",
            "42/42 [==============================] - 3s 66ms/step - loss: 6.6086e-04\n",
            "Epoch 31/100\n",
            "42/42 [==============================] - 3s 68ms/step - loss: 8.4749e-04\n",
            "Epoch 32/100\n",
            "42/42 [==============================] - 3s 66ms/step - loss: 7.8589e-04\n",
            "Epoch 33/100\n",
            "42/42 [==============================] - 3s 65ms/step - loss: 7.1176e-04\n",
            "Epoch 34/100\n",
            "42/42 [==============================] - 3s 64ms/step - loss: 7.8120e-04\n",
            "Epoch 35/100\n",
            "42/42 [==============================] - 3s 70ms/step - loss: 7.7104e-04\n",
            "Epoch 36/100\n",
            "42/42 [==============================] - 3s 62ms/step - loss: 7.6663e-04\n",
            "Epoch 37/100\n",
            "42/42 [==============================] - 3s 61ms/step - loss: 8.2930e-04\n",
            "Epoch 38/100\n",
            "42/42 [==============================] - 3s 62ms/step - loss: 9.0965e-04\n",
            "Epoch 39/100\n",
            "42/42 [==============================] - 3s 61ms/step - loss: 8.4648e-04\n",
            "Epoch 40/100\n",
            "42/42 [==============================] - 3s 62ms/step - loss: 6.9098e-04\n",
            "Epoch 41/100\n",
            "42/42 [==============================] - 3s 62ms/step - loss: 7.8318e-04\n",
            "Epoch 42/100\n",
            "42/42 [==============================] - 3s 62ms/step - loss: 5.8388e-04\n",
            "Epoch 43/100\n",
            "42/42 [==============================] - 3s 62ms/step - loss: 6.3857e-04\n",
            "Epoch 44/100\n",
            "42/42 [==============================] - 3s 61ms/step - loss: 8.0833e-04\n",
            "Epoch 45/100\n",
            "42/42 [==============================] - 3s 61ms/step - loss: 6.3168e-04\n",
            "Epoch 46/100\n",
            "42/42 [==============================] - 3s 62ms/step - loss: 7.4884e-04\n",
            "Epoch 47/100\n",
            "42/42 [==============================] - 3s 62ms/step - loss: 6.8375e-04\n",
            "Epoch 48/100\n",
            "42/42 [==============================] - 3s 61ms/step - loss: 6.0516e-04\n",
            "Epoch 49/100\n",
            "42/42 [==============================] - 3s 62ms/step - loss: 6.1993e-04\n",
            "Epoch 50/100\n",
            "42/42 [==============================] - 3s 62ms/step - loss: 6.4433e-04\n",
            "Epoch 51/100\n",
            "42/42 [==============================] - 3s 62ms/step - loss: 5.5615e-04\n",
            "Epoch 52/100\n",
            "42/42 [==============================] - 3s 61ms/step - loss: 5.5487e-04\n",
            "Epoch 53/100\n",
            "42/42 [==============================] - 3s 62ms/step - loss: 5.0667e-04\n",
            "Epoch 54/100\n",
            "42/42 [==============================] - 3s 61ms/step - loss: 6.4391e-04\n",
            "Epoch 55/100\n",
            "42/42 [==============================] - 3s 62ms/step - loss: 5.4419e-04\n",
            "Epoch 56/100\n",
            "42/42 [==============================] - 3s 61ms/step - loss: 5.9550e-04\n",
            "Epoch 57/100\n",
            "42/42 [==============================] - 3s 62ms/step - loss: 5.4936e-04\n",
            "Epoch 58/100\n",
            "42/42 [==============================] - 3s 61ms/step - loss: 4.9368e-04\n",
            "Epoch 59/100\n",
            "42/42 [==============================] - 3s 62ms/step - loss: 5.2627e-04\n",
            "Epoch 60/100\n",
            "42/42 [==============================] - 3s 62ms/step - loss: 5.9388e-04\n",
            "Epoch 61/100\n",
            "42/42 [==============================] - 3s 62ms/step - loss: 5.8441e-04\n",
            "Epoch 62/100\n",
            "42/42 [==============================] - 3s 62ms/step - loss: 4.7312e-04\n",
            "Epoch 63/100\n",
            "42/42 [==============================] - 3s 62ms/step - loss: 5.6801e-04\n",
            "Epoch 64/100\n",
            "42/42 [==============================] - 3s 62ms/step - loss: 5.1845e-04\n",
            "Epoch 65/100\n",
            "42/42 [==============================] - 3s 62ms/step - loss: 4.7040e-04\n",
            "Epoch 66/100\n",
            "42/42 [==============================] - 3s 63ms/step - loss: 5.6545e-04\n",
            "Epoch 67/100\n",
            "42/42 [==============================] - 3s 63ms/step - loss: 5.2743e-04\n",
            "Epoch 68/100\n",
            "42/42 [==============================] - 3s 62ms/step - loss: 4.7338e-04\n",
            "Epoch 69/100\n",
            "42/42 [==============================] - 3s 62ms/step - loss: 4.7796e-04\n",
            "Epoch 70/100\n",
            "42/42 [==============================] - 3s 62ms/step - loss: 7.0142e-04\n",
            "Epoch 71/100\n",
            "42/42 [==============================] - 3s 62ms/step - loss: 5.0712e-04\n",
            "Epoch 72/100\n",
            "42/42 [==============================] - 3s 61ms/step - loss: 4.3788e-04\n",
            "Epoch 73/100\n",
            "42/42 [==============================] - 3s 66ms/step - loss: 4.5653e-04\n",
            "Epoch 74/100\n",
            "42/42 [==============================] - 3s 66ms/step - loss: 4.5679e-04\n",
            "Epoch 75/100\n",
            "42/42 [==============================] - 3s 62ms/step - loss: 4.7186e-04\n",
            "Epoch 76/100\n",
            "42/42 [==============================] - 3s 66ms/step - loss: 4.3817e-04\n",
            "Epoch 77/100\n",
            "42/42 [==============================] - 3s 62ms/step - loss: 4.0778e-04\n",
            "Epoch 78/100\n",
            "42/42 [==============================] - 3s 61ms/step - loss: 4.4607e-04\n",
            "Epoch 79/100\n",
            "42/42 [==============================] - 3s 62ms/step - loss: 4.3437e-04\n",
            "Epoch 80/100\n",
            "42/42 [==============================] - 3s 62ms/step - loss: 4.5016e-04\n",
            "Epoch 81/100\n",
            "42/42 [==============================] - 3s 63ms/step - loss: 5.4228e-04\n",
            "Epoch 82/100\n",
            "42/42 [==============================] - 3s 62ms/step - loss: 3.9617e-04\n",
            "Epoch 83/100\n",
            "42/42 [==============================] - 3s 61ms/step - loss: 3.7828e-04\n",
            "Epoch 84/100\n",
            "42/42 [==============================] - 3s 61ms/step - loss: 4.2121e-04\n",
            "Epoch 85/100\n",
            "42/42 [==============================] - 3s 61ms/step - loss: 4.0623e-04\n",
            "Epoch 86/100\n",
            "42/42 [==============================] - 3s 62ms/step - loss: 3.8607e-04\n",
            "Epoch 87/100\n",
            "42/42 [==============================] - 3s 62ms/step - loss: 4.9604e-04\n",
            "Epoch 88/100\n",
            "42/42 [==============================] - 3s 61ms/step - loss: 4.3319e-04\n",
            "Epoch 89/100\n",
            "42/42 [==============================] - 3s 62ms/step - loss: 4.1253e-04\n",
            "Epoch 90/100\n",
            "42/42 [==============================] - 3s 61ms/step - loss: 5.9263e-04\n",
            "Epoch 91/100\n",
            "42/42 [==============================] - 3s 62ms/step - loss: 4.4773e-04\n",
            "Epoch 92/100\n",
            "42/42 [==============================] - 3s 62ms/step - loss: 4.7486e-04\n",
            "Epoch 93/100\n",
            "42/42 [==============================] - 3s 62ms/step - loss: 4.1266e-04\n",
            "Epoch 94/100\n",
            "42/42 [==============================] - 3s 62ms/step - loss: 5.4331e-04\n",
            "Epoch 95/100\n",
            "42/42 [==============================] - 3s 62ms/step - loss: 4.2138e-04\n",
            "Epoch 96/100\n",
            "42/42 [==============================] - 3s 61ms/step - loss: 3.7686e-04\n",
            "Epoch 97/100\n",
            "42/42 [==============================] - 3s 62ms/step - loss: 3.8171e-04\n",
            "Epoch 98/100\n",
            "42/42 [==============================] - 3s 61ms/step - loss: 4.3290e-04\n",
            "Epoch 99/100\n",
            "42/42 [==============================] - 3s 61ms/step - loss: 4.0351e-04\n",
            "Epoch 100/100\n",
            "42/42 [==============================] - 3s 62ms/step - loss: 4.0405e-04\n"
          ]
        },
        {
          "output_type": "execute_result",
          "data": {
            "text/plain": [
              "<keras.callbacks.History at 0x7fafe02d8d90>"
            ]
          },
          "metadata": {},
          "execution_count": 14
        }
      ]
    },
    {
      "cell_type": "markdown",
      "source": [
        "### test and plot the model"
      ],
      "metadata": {
        "id": "1uN_5Ei3tvtX"
      }
    },
    {
      "cell_type": "markdown",
      "source": [
        "in here we'll test the model with test data. in the predict_test function we'll predict the x_test and then re scaled it to the prices. for this, we use inverse_transform func."
      ],
      "metadata": {
        "id": "pXsVzShDt1Nm"
      }
    },
    {
      "cell_type": "code",
      "source": [
        "def predicted_price(model):\n",
        "    pred = np.squeeze(sc.inverse_transform(model.predict((x_test))))\n",
        "    return pred\n",
        "\n",
        "def plot_result(pred, target):\n",
        "    plt.figure(figsize=(10, 5))\n",
        "    plt.plot(pred)\n",
        "    plt.plot(target)\n",
        "    plt.legend(['prediction', 'target'])\n",
        "    plt.grid(True)\n",
        "    plt.xlabel('DATE')\n",
        "    plt.ylabel('PRICE')\n",
        "    plt.show()\n",
        "\n",
        "\n",
        "pred = predicted_price(model)\n",
        "plot_result(pred, np.squeeze(y_test))"
      ],
      "metadata": {
        "id": "ednlI6eRtuHH",
        "colab": {
          "base_uri": "https://localhost:8080/",
          "height": 334
        },
        "outputId": "7928e03d-a1f6-41bf-b6a1-d594fea1955d"
      },
      "execution_count": 18,
      "outputs": [
        {
          "output_type": "display_data",
          "data": {
            "image/png": "[encoded data removed]",
            "text/plain": [
              "<Figure size 720x360 with 1 Axes>"
            ]
          },
          "metadata": {
            "needs_background": "light"
          }
        }
      ]
    },
    {
      "cell_type": "markdown",
      "source": [
        "### Predict our model for next 30 month"
      ],
      "metadata": {
        "id": "b5jZCaQfvZMm"
      }
    },
    {
      "cell_type": "markdown",
      "source": [
        "Here, we'll predict the price of bitcoin for next 30 month means 30 * 3 = 90 days. in here again we need last 60 days to prdict next 90 days.\n",
        "we create array for store last 60 days of data s and concatenate it with next 90 days and predict next 90 days bitcoine price. "
      ],
      "metadata": {
        "id": "dQFRGvMzvd4S"
      }
    },
    {
      "cell_type": "code",
      "source": [
        "def predict_n_days(model, n_days = 90):\n",
        "    concatencate_90 = np.concatenate((test_data_scaled[len(test_data_scaled)-look_back:], np.zeros((n_days, 1))))\n",
        "    for i in range(look_back, n_days + look_back):\n",
        "        temp = np.transpose(concatencate_90[i-look_back:i])\n",
        "        temp = np.expand_dims(temp, axis=2)\n",
        "        prediction = model.predict(temp)\n",
        "        concatencate_90[i] = np.squeeze(prediction)\n",
        "    return np.squeeze(sc.inverse_transform(concatencate_90[look_back:]))"
      ],
      "metadata": {
        "id": "kiJAJeTEz4xz"
      },
      "execution_count": 32,
      "outputs": []
    },
    {
      "cell_type": "markdown",
      "source": [
        "now we plot the predicted price for next 90 days"
      ],
      "metadata": {
        "id": "w8mkQBOgebhe"
      }
    },
    {
      "cell_type": "code",
      "source": [
        "pred_90_day = predict_n_days(model, 90)\n",
        "days = np.array(range(0, 90)) + len(train_data)\n",
        "plt.plot(days, pred_90_day)\n",
        "plt.grid(True)\n",
        "plt.xlabel('DAYS')\n",
        "plt.ylabel('PRICE')\n",
        "plt.show()"
      ],
      "metadata": {
        "colab": {
          "base_uri": "https://localhost:8080/",
          "height": 279
        },
        "id": "PPV629gqefEU",
        "outputId": "51258b93-7272-496c-aa5d-8dc5bc9e5222"
      },
      "execution_count": 36,
      "outputs": [
        {
          "output_type": "display_data",
          "data": {
            "image/png": "[encoded data removed]",
            "text/plain": [
              "<Figure size 432x288 with 1 Axes>"
            ]
          },
          "metadata": {
            "needs_background": "light"
          }
        }
      ]
    },
    {
      "cell_type": "markdown",
      "source": [
        "# Q2\n"
      ],
      "metadata": {
        "id": "GQqzcLRJoyVH"
      }
    },
    {
      "cell_type": "code",
      "source": [
        "import tensorflow as tf\n",
        "import keras\n",
        "import matplotlib.pyplot as plt\n",
        "from tensorflow.keras.layers import GRU, Dense, RepeatVector\n",
        "from tensorflow.keras.models import Sequential, load_model\n",
        "import numpy as np\n",
        "from tensorflow.keras import layers\n",
        "from tensorflow.keras import models\n"
      ],
      "metadata": {
        "id": "dWRrPNDtCawE"
      },
      "execution_count": null,
      "outputs": []
    },
    {
      "cell_type": "code",
      "source": [
        "from google.colab import drive\n",
        "drive.mount('/content/drive')"
      ],
      "metadata": {
        "colab": {
          "base_uri": "https://localhost:8080/"
        },
        "id": "RpdWgD5NCvEK",
        "outputId": "8d2099d0-f015-408b-b64d-d96027a3d5a0"
      },
      "execution_count": null,
      "outputs": [
        {
          "output_type": "stream",
          "name": "stdout",
          "text": [
            "Mounted at /content/drive\n"
          ]
        }
      ]
    },
    {
      "cell_type": "markdown",
      "source": [
        "### read file\n"
      ],
      "metadata": {
        "id": "Fcr9hUnnEU6C"
      }
    },
    {
      "cell_type": "markdown",
      "source": [
        "we read the text file form the drive and split it into multiple lines and store it in a list.\n"
      ],
      "metadata": {
        "id": "oYuupDCiNK88"
      }
    },
    {
      "cell_type": "code",
      "source": [
        "text = open('/content/drive/MyDrive/enc-dec.txt', 'r')\n",
        "lines = text.read().splitlines()\n",
        "lines[:10]"
      ],
      "metadata": {
        "colab": {
          "base_uri": "https://localhost:8080/"
        },
        "id": "JNda0yG3EjUZ",
        "outputId": "7c78af19-4137-4520-ba2e-c00dcf20b03e"
      },
      "execution_count": null,
      "outputs": [
        {
          "output_type": "execute_result",
          "data": {
            "text/plain": [
              "['sehlckaohz\\tundesirous',\n",
              " 'w lzrjxwvu\\tbemotto   ',\n",
              " 'jihiwtdlvz\\t   boylike',\n",
              " 'ymxxcwtsr\\t plaguy  ',\n",
              " 'qtgswoeba \\todometry  ',\n",
              " 'lkbduhih\\t  scrob ',\n",
              " 'hyykqukjih\\tgranger   ',\n",
              " 'xjpiqttuei\\tunguidable',\n",
              " 'ih hnrhpgn\\t  tigerish',\n",
              " 'vhwmfimzae\\tunprudence']"
            ]
          },
          "metadata": {},
          "execution_count": 3
        }
      ]
    },
    {
      "cell_type": "code",
      "source": [
        "for l in lines[:10]:\n",
        "  f, d = l.split('\\t')\n",
        "  print(f'{f}:{len(f)},{d}:{len(d)}')"
      ],
      "metadata": {
        "colab": {
          "base_uri": "https://localhost:8080/"
        },
        "id": "60EGbvIqJPNC",
        "outputId": "347dec7d-3e1f-406c-9f3f-e357efeeb533"
      },
      "execution_count": null,
      "outputs": [
        {
          "output_type": "stream",
          "name": "stdout",
          "text": [
            "sehlckaohz:10,undesirous:10\n",
            "w lzrjxwvu:10,bemotto   :10\n",
            "jihiwtdlvz:10,   boylike:10\n",
            "ymxxcwtsr:9, plaguy  :9\n",
            "qtgswoeba :10,odometry  :10\n",
            "lkbduhih:8,  scrob :8\n",
            "hyykqukjih:10,granger   :10\n",
            "xjpiqttuei:10,unguidable:10\n",
            "ih hnrhpgn:10,  tigerish:10\n",
            "vhwmfimzae:10,unprudence:10\n"
          ]
        }
      ]
    },
    {
      "cell_type": "markdown",
      "source": [
        "As you can see, some of the words length are not equal to 10 in above, so we need do some preprocessing to make them same size. "
      ],
      "metadata": {
        "id": "4t1Reg0KK4dk"
      }
    },
    {
      "cell_type": "code",
      "source": [
        "data = []\n",
        "\n",
        "for i, line in enumerate(lines):\n",
        "    r, l = line.split('\\t')\n",
        "    diff1 = 10 - len(r)\n",
        "    diff2 = 10 - len(l)\n",
        "    \n",
        "    r = r + (diff1) * ' '\n",
        "    l = l + (diff2) * ' '\n",
        "    data.append((r, l))\n",
        "\n",
        "# check the length of the encode and decode\n",
        "for (l, f) in data:\n",
        "    assert len(f) == 10 and len(l) == 10 \n",
        "    "
      ],
      "metadata": {
        "id": "OYih6zA9LEYT"
      },
      "execution_count": null,
      "outputs": []
    },
    {
      "cell_type": "markdown",
      "source": [
        "### prepare data for training model\n",
        " "
      ],
      "metadata": {
        "id": "B9DDzsNrSgLx"
      }
    },
    {
      "cell_type": "markdown",
      "source": [
        "As you can see here we define some variables and train-dataset for training model. for creating our dataset we use one-hot encoding for our word."
      ],
      "metadata": {
        "id": "M10Y653WKOOD"
      }
    },
    {
      "cell_type": "code",
      "source": [
        "all_symbols = \"abcdefghijklmnopqrstuvwxyz \"\n",
        "symbols_dict = {val:i for i, val in enumerate(all_symbols)}\n",
        "symbols_len = len(all_symbols)\n",
        "word_len = 10\n",
        "x_train = np.zeros(shape=(len(data), word_len, symbols_len))\n",
        "y_train = np.zeros(shape=(len(data), word_len, symbols_len)) \n",
        "\n",
        "\n",
        "for i, val in enumerate(data):\n",
        "    x, y = val\n",
        "    for j in range(word_len):\n",
        "        x_train[i, j, symbols_dict[x[j]]] = 1\n",
        "        y_train[i, j, symbols_dict[y[j]]] = 1\n",
        "\n",
        "\n",
        "print(f'x_trian shape : {x_train.shape}')\n",
        "print(f'y_train shape : {y_train.shape}')\n",
        "print()\n",
        "x_train[0] , data[0][0]"
      ],
      "metadata": {
        "id": "v2_9khyvSnS4",
        "colab": {
          "base_uri": "https://localhost:8080/"
        },
        "outputId": "b71b7905-3dec-46e9-86f9-33fa32a9ef1a"
      },
      "execution_count": null,
      "outputs": [
        {
          "output_type": "stream",
          "name": "stdout",
          "text": [
            "x_trian shape : (152273, 10, 27)\n",
            "y_train shape : (152273, 10, 27)\n",
            "\n"
          ]
        },
        {
          "output_type": "execute_result",
          "data": {
            "text/plain": [
              "(array([[0., 0., 0., 0., 0., 0., 0., 0., 0., 0., 0., 0., 0., 0., 0., 0.,\n",
              "         0., 0., 1., 0., 0., 0., 0., 0., 0., 0., 0.],\n",
              "        [0., 0., 0., 0., 1., 0., 0., 0., 0., 0., 0., 0., 0., 0., 0., 0.,\n",
              "         0., 0., 0., 0., 0., 0., 0., 0., 0., 0., 0.],\n",
              "        [0., 0., 0., 0., 0., 0., 0., 1., 0., 0., 0., 0., 0., 0., 0., 0.,\n",
              "         0., 0., 0., 0., 0., 0., 0., 0., 0., 0., 0.],\n",
              "        [0., 0., 0., 0., 0., 0., 0., 0., 0., 0., 0., 1., 0., 0., 0., 0.,\n",
              "         0., 0., 0., 0., 0., 0., 0., 0., 0., 0., 0.],\n",
              "        [0., 0., 1., 0., 0., 0., 0., 0., 0., 0., 0., 0., 0., 0., 0., 0.,\n",
              "         0., 0., 0., 0., 0., 0., 0., 0., 0., 0., 0.],\n",
              "        [0., 0., 0., 0., 0., 0., 0., 0., 0., 0., 1., 0., 0., 0., 0., 0.,\n",
              "         0., 0., 0., 0., 0., 0., 0., 0., 0., 0., 0.],\n",
              "        [1., 0., 0., 0., 0., 0., 0., 0., 0., 0., 0., 0., 0., 0., 0., 0.,\n",
              "         0., 0., 0., 0., 0., 0., 0., 0., 0., 0., 0.],\n",
              "        [0., 0., 0., 0., 0., 0., 0., 0., 0., 0., 0., 0., 0., 0., 1., 0.,\n",
              "         0., 0., 0., 0., 0., 0., 0., 0., 0., 0., 0.],\n",
              "        [0., 0., 0., 0., 0., 0., 0., 1., 0., 0., 0., 0., 0., 0., 0., 0.,\n",
              "         0., 0., 0., 0., 0., 0., 0., 0., 0., 0., 0.],\n",
              "        [0., 0., 0., 0., 0., 0., 0., 0., 0., 0., 0., 0., 0., 0., 0., 0.,\n",
              "         0., 0., 0., 0., 0., 0., 0., 0., 0., 1., 0.]]), 'sehlckaohz')"
            ]
          },
          "metadata": {},
          "execution_count": 6
        }
      ]
    },
    {
      "cell_type": "markdown",
      "source": [
        "Prepare test dataset which is given in the document. First we convert it to some parts with length of 10 chars and then we use it as sequence for testing our model.\n",
        " "
      ],
      "metadata": {
        "id": "ENOTvnC3Rnu1"
      }
    },
    {
      "cell_type": "code",
      "source": [
        "test_text = \"onmltsrqpoihgrezcba lknrvjihgfueiizltflk\"\n",
        "i = 0\n",
        "parts = []\n",
        "while i < len(test_text):\n",
        "    if i + 10 <= len(test_text):\n",
        "        sub_str = test_text[i:i + 10]\n",
        "    else:\n",
        "        sub_str = test_text[i:len(test_text) - i]\n",
        "        sub_str = sub_str + (word_len - len(sub_str)) * ' '\n",
        "    parts.append(sub_str)\n",
        "    i += 10\n",
        "\n",
        "for p in parts:\n",
        "    print(p, f' ___length : {len(p)}')\n",
        "\n",
        "print('==' * 50)\n",
        "\n",
        "x_test = np.zeros(shape=(len(parts), word_len, symbols_len))\n",
        "\n",
        "for i, val in enumerate(parts):\n",
        "      for j in range(len(val)):\n",
        "          x_test[i, j, symbols_dict[val[j]]] = 1\n",
        "\n",
        "print(f'x_test shape : {x_test.shape}')\n",
        "print()\n",
        "print(x_test[0], parts[0])"
      ],
      "metadata": {
        "colab": {
          "base_uri": "https://localhost:8080/"
        },
        "id": "3tJhk5dsR8Oz",
        "outputId": "d1e4923a-94d2-4044-d8bc-b733cd6ea8ae"
      },
      "execution_count": null,
      "outputs": [
        {
          "output_type": "stream",
          "name": "stdout",
          "text": [
            "onmltsrqpo  ___length : 10\n",
            "ihgrezcba   ___length : 10\n",
            "lknrvjihgf  ___length : 10\n",
            "ueiizltflk  ___length : 10\n",
            "====================================================================================================\n",
            "x_test shape : (4, 10, 27)\n",
            "\n",
            "[[0. 0. 0. 0. 0. 0. 0. 0. 0. 0. 0. 0. 0. 0. 1. 0. 0. 0. 0. 0. 0. 0. 0. 0.\n",
            "  0. 0. 0.]\n",
            " [0. 0. 0. 0. 0. 0. 0. 0. 0. 0. 0. 0. 0. 1. 0. 0. 0. 0. 0. 0. 0. 0. 0. 0.\n",
            "  0. 0. 0.]\n",
            " [0. 0. 0. 0. 0. 0. 0. 0. 0. 0. 0. 0. 1. 0. 0. 0. 0. 0. 0. 0. 0. 0. 0. 0.\n",
            "  0. 0. 0.]\n",
            " [0. 0. 0. 0. 0. 0. 0. 0. 0. 0. 0. 1. 0. 0. 0. 0. 0. 0. 0. 0. 0. 0. 0. 0.\n",
            "  0. 0. 0.]\n",
            " [0. 0. 0. 0. 0. 0. 0. 0. 0. 0. 0. 0. 0. 0. 0. 0. 0. 0. 0. 1. 0. 0. 0. 0.\n",
            "  0. 0. 0.]\n",
            " [0. 0. 0. 0. 0. 0. 0. 0. 0. 0. 0. 0. 0. 0. 0. 0. 0. 0. 1. 0. 0. 0. 0. 0.\n",
            "  0. 0. 0.]\n",
            " [0. 0. 0. 0. 0. 0. 0. 0. 0. 0. 0. 0. 0. 0. 0. 0. 0. 1. 0. 0. 0. 0. 0. 0.\n",
            "  0. 0. 0.]\n",
            " [0. 0. 0. 0. 0. 0. 0. 0. 0. 0. 0. 0. 0. 0. 0. 0. 1. 0. 0. 0. 0. 0. 0. 0.\n",
            "  0. 0. 0.]\n",
            " [0. 0. 0. 0. 0. 0. 0. 0. 0. 0. 0. 0. 0. 0. 0. 1. 0. 0. 0. 0. 0. 0. 0. 0.\n",
            "  0. 0. 0.]\n",
            " [0. 0. 0. 0. 0. 0. 0. 0. 0. 0. 0. 0. 0. 0. 1. 0. 0. 0. 0. 0. 0. 0. 0. 0.\n",
            "  0. 0. 0.]] onmltsrqpo\n"
          ]
        }
      ]
    },
    {
      "cell_type": "markdown",
      "source": [
        "### Utils function\n"
      ],
      "metadata": {
        "id": "FxxA_tEiXsP5"
      }
    },
    {
      "cell_type": "markdown",
      "source": [
        "in here we will define some helper function and call-backs for saving model after each epochs.\n"
      ],
      "metadata": {
        "id": "GIf7foJtXvKQ"
      }
    },
    {
      "cell_type": "code",
      "source": [
        "def test_model(model):\n",
        "    pred = model.predict(x_test)\n",
        "    sentence = ''\n",
        "    part_count, char_count, _ = pred.shape\n",
        "    for i in range(part_count):\n",
        "        for j in range(char_count):\n",
        "              chars_list = pred[i][j]\n",
        "              char_idx = np.argmax(chars_list)\n",
        "              sentence += all_symbols[char_idx]\n",
        "    return sentence\n",
        "\n",
        "\n",
        "\n",
        "def get_call_backs(path=''):\n",
        "    return tf.keras.callbacks.ModelCheckpoint(\n",
        "                      filepath=path,\n",
        "                      save_weights_only=True,\n",
        "                      monitor='accuracy',\n",
        "                      save_best_only=True)"
      ],
      "metadata": {
        "id": "Lkyg06G3X4jc"
      },
      "execution_count": null,
      "outputs": []
    },
    {
      "cell_type": "markdown",
      "source": [
        "now we define and train different models with GRU layers. we define different layers num and different neurons in each layer and test the result"
      ],
      "metadata": {
        "id": "UYSrjt7fQFiN"
      }
    },
    {
      "cell_type": "markdown",
      "source": [
        "### model 1"
      ],
      "metadata": {
        "id": "YszZ4qWuPf0f"
      }
    },
    {
      "cell_type": "code",
      "source": [
        "model1 = models.Sequential()\n",
        "model1.add(layers.GRU(units=64, input_shape=(word_len, symbols_len)))\n",
        "model1.add(layers.RepeatVector(word_len))\n",
        "model1.add(layers.GRU(units=64, return_sequences=True))\n",
        "model1.add(layers.Dense(units=symbols_len, activation='softmax'))\n",
        "model1.compile('adam', 'categorical_crossentropy', metrics=['accuracy'])\n",
        "print(model1.summary())\n"
      ],
      "metadata": {
        "colab": {
          "base_uri": "https://localhost:8080/"
        },
        "id": "VJ_CMlH2PkR2",
        "outputId": "025718f6-5152-4e10-dc67-d862c1ca3e71"
      },
      "execution_count": null,
      "outputs": [
        {
          "output_type": "stream",
          "name": "stdout",
          "text": [
            "Model: \"sequential\"\n",
            "_________________________________________________________________\n",
            " Layer (type)                Output Shape              Param #   \n",
            "=================================================================\n",
            " gru (GRU)                   (None, 64)                17856     \n",
            "                                                                 \n",
            " repeat_vector (RepeatVector  (None, 10, 64)           0         \n",
            " )                                                               \n",
            "                                                                 \n",
            " gru_1 (GRU)                 (None, 10, 64)            24960     \n",
            "                                                                 \n",
            " dense (Dense)               (None, 10, 27)            1755      \n",
            "                                                                 \n",
            "=================================================================\n",
            "Total params: 44,571\n",
            "Trainable params: 44,571\n",
            "Non-trainable params: 0\n",
            "_________________________________________________________________\n",
            "None\n"
          ]
        }
      ]
    },
    {
      "cell_type": "code",
      "source": [
        "model1.fit(x_train, y_train, batch_size=32, epochs=15, callbacks=[get_call_backs('model1.h5')])"
      ],
      "metadata": {
        "colab": {
          "base_uri": "https://localhost:8080/"
        },
        "id": "S7s2UrwrQgnw",
        "outputId": "90413410-1fe3-40dc-f235-47ee44afc28f"
      },
      "execution_count": null,
      "outputs": [
        {
          "output_type": "stream",
          "name": "stdout",
          "text": [
            "Epoch 1/15\n",
            "4759/4759 [==============================] - 75s 15ms/step - loss: 2.3501 - accuracy: 0.3027\n",
            "Epoch 2/15\n",
            "4759/4759 [==============================] - 69s 15ms/step - loss: 1.9969 - accuracy: 0.3936\n",
            "Epoch 3/15\n",
            "4759/4759 [==============================] - 68s 14ms/step - loss: 1.7203 - accuracy: 0.4655\n",
            "Epoch 4/15\n",
            "4759/4759 [==============================] - 68s 14ms/step - loss: 1.3291 - accuracy: 0.5611\n",
            "Epoch 5/15\n",
            "4759/4759 [==============================] - 68s 14ms/step - loss: 1.0144 - accuracy: 0.6700\n",
            "Epoch 6/15\n",
            "4759/4759 [==============================] - 68s 14ms/step - loss: 0.8169 - accuracy: 0.7406\n",
            "Epoch 7/15\n",
            "4759/4759 [==============================] - 68s 14ms/step - loss: 0.6851 - accuracy: 0.7863\n",
            "Epoch 8/15\n",
            "4759/4759 [==============================] - 69s 15ms/step - loss: 0.5824 - accuracy: 0.8216\n",
            "Epoch 9/15\n",
            "4759/4759 [==============================] - 69s 14ms/step - loss: 0.5034 - accuracy: 0.8489\n",
            "Epoch 10/15\n",
            "4759/4759 [==============================] - 68s 14ms/step - loss: 0.4433 - accuracy: 0.8685\n",
            "Epoch 11/15\n",
            "4759/4759 [==============================] - 68s 14ms/step - loss: 0.3980 - accuracy: 0.8831\n",
            "Epoch 12/15\n",
            "4759/4759 [==============================] - 68s 14ms/step - loss: 0.3612 - accuracy: 0.8941\n",
            "Epoch 13/15\n",
            "4759/4759 [==============================] - 68s 14ms/step - loss: 0.3308 - accuracy: 0.9031\n",
            "Epoch 14/15\n",
            "4759/4759 [==============================] - 68s 14ms/step - loss: 0.3041 - accuracy: 0.9113\n",
            "Epoch 15/15\n",
            "4759/4759 [==============================] - 68s 14ms/step - loss: 0.2832 - accuracy: 0.9174\n"
          ]
        },
        {
          "output_type": "execute_result",
          "data": {
            "text/plain": [
              "<keras.callbacks.History at 0x7f68247d66d0>"
            ]
          },
          "metadata": {},
          "execution_count": 33
        }
      ]
    },
    {
      "cell_type": "code",
      "source": [
        "a = test_model(model1)\n",
        "a"
      ],
      "metadata": {
        "colab": {
          "base_uri": "https://localhost:8080/",
          "height": 53
        },
        "id": "QanJqed0mRDE",
        "outputId": "526517b7-af9b-418d-fcd1-6e00542e8fb6"
      },
      "execution_count": null,
      "outputs": [
        {
          "output_type": "stream",
          "name": "stdout",
          "text": [
            "4 10\n"
          ]
        },
        {
          "output_type": "execute_result",
          "data": {
            "application/vnd.google.colaboratory.intrinsic+json": {
              "type": "string"
            },
            "text/plain": [
              "'    te       love   sedeep    plearning '"
            ]
          },
          "metadata": {},
          "execution_count": 42
        }
      ]
    },
    {
      "cell_type": "markdown",
      "source": [
        "### model 2"
      ],
      "metadata": {
        "id": "qPdAZeGAVCt9"
      }
    },
    {
      "cell_type": "code",
      "source": [
        "model2 = models.Sequential()\n",
        "model2.add(layers.GRU(units=128, input_shape=(word_len, symbols_len)))\n",
        "model2.add(layers.RepeatVector(word_len))\n",
        "model2.add(layers.GRU(units=128, return_sequences=True))\n",
        "model2.add(layers.Dense(units=symbols_len, activation='softmax'))\n",
        "model2.compile('adam', 'categorical_crossentropy', metrics=['accuracy'])\n",
        "print(model2.summary())"
      ],
      "metadata": {
        "colab": {
          "base_uri": "https://localhost:8080/"
        },
        "id": "WKiPyk5RVEKh",
        "outputId": "3e781b34-c0fb-47a8-f751-a576de1b5ae8"
      },
      "execution_count": null,
      "outputs": [
        {
          "output_type": "stream",
          "name": "stdout",
          "text": [
            "Model: \"sequential_2\"\n",
            "_________________________________________________________________\n",
            " Layer (type)                Output Shape              Param #   \n",
            "=================================================================\n",
            " gru (GRU)                   (None, 128)               60288     \n",
            "                                                                 \n",
            " repeat_vector (RepeatVector  (None, 10, 128)          0         \n",
            " )                                                               \n",
            "                                                                 \n",
            " gru_1 (GRU)                 (None, 10, 128)           99072     \n",
            "                                                                 \n",
            " dense_2 (Dense)             (None, 10, 27)            3483      \n",
            "                                                                 \n",
            "=================================================================\n",
            "Total params: 162,843\n",
            "Trainable params: 162,843\n",
            "Non-trainable params: 0\n",
            "_________________________________________________________________\n",
            "None\n"
          ]
        }
      ]
    },
    {
      "cell_type": "code",
      "source": [
        "model2.fit(x_train, y_train, batch_size=32, epochs=15, callbacks=[get_call_backs('/content/drive/MyDrive/model2.h5')])"
      ],
      "metadata": {
        "colab": {
          "base_uri": "https://localhost:8080/"
        },
        "id": "wHn0t9rYVbd8",
        "outputId": "92a0490b-0404-4dbe-a5ed-bf2d815ca194"
      },
      "execution_count": null,
      "outputs": [
        {
          "output_type": "stream",
          "name": "stdout",
          "text": [
            "Epoch 1/15\n",
            "4759/4759 [==============================] - 113s 23ms/step - loss: 2.2239 - accuracy: 0.3398\n",
            "Epoch 2/15\n",
            "4759/4759 [==============================] - 109s 23ms/step - loss: 1.2758 - accuracy: 0.6119\n",
            "Epoch 3/15\n",
            "4759/4759 [==============================] - 107s 22ms/step - loss: 0.5402 - accuracy: 0.8354\n",
            "Epoch 4/15\n",
            "4759/4759 [==============================] - 106s 22ms/step - loss: 0.2927 - accuracy: 0.9135\n",
            "Epoch 5/15\n",
            "4759/4759 [==============================] - 105s 22ms/step - loss: 0.2145 - accuracy: 0.9366\n",
            "Epoch 6/15\n",
            "4759/4759 [==============================] - 105s 22ms/step - loss: 0.1805 - accuracy: 0.9462\n",
            "Epoch 7/15\n",
            "4759/4759 [==============================] - 106s 22ms/step - loss: 0.1617 - accuracy: 0.9514\n",
            "Epoch 8/15\n",
            "4759/4759 [==============================] - 106s 22ms/step - loss: 0.1502 - accuracy: 0.9546\n",
            "Epoch 9/15\n",
            "4759/4759 [==============================] - 106s 22ms/step - loss: 0.1416 - accuracy: 0.9569\n",
            "Epoch 10/15\n",
            "4759/4759 [==============================] - 107s 22ms/step - loss: 0.1355 - accuracy: 0.9588\n",
            "Epoch 11/15\n",
            "4759/4759 [==============================] - 109s 23ms/step - loss: 0.1308 - accuracy: 0.9602\n",
            "Epoch 12/15\n",
            "4759/4759 [==============================] - 109s 23ms/step - loss: 0.1269 - accuracy: 0.9612\n",
            "Epoch 13/15\n",
            "4759/4759 [==============================] - 111s 23ms/step - loss: 0.1237 - accuracy: 0.9621\n",
            "Epoch 14/15\n",
            "4759/4759 [==============================] - 110s 23ms/step - loss: 0.1210 - accuracy: 0.9629\n",
            "Epoch 15/15\n",
            "4759/4759 [==============================] - 108s 23ms/step - loss: 0.1185 - accuracy: 0.9635\n"
          ]
        },
        {
          "output_type": "execute_result",
          "data": {
            "text/plain": [
              "<keras.callbacks.History at 0x7f3ee03fe610>"
            ]
          },
          "metadata": {},
          "execution_count": 68
        }
      ]
    },
    {
      "cell_type": "code",
      "source": [
        "test_model(model2)"
      ],
      "metadata": {
        "colab": {
          "base_uri": "https://localhost:8080/",
          "height": 35
        },
        "id": "6NOppM-wVi-r",
        "outputId": "60f77e12-539f-4caa-ab86-87946366e116"
      },
      "execution_count": null,
      "outputs": [
        {
          "output_type": "execute_result",
          "data": {
            "application/vnd.google.colaboratory.intrinsic+json": {
              "type": "string"
            },
            "text/plain": [
              "'    i        love     deep    plearning '"
            ]
          },
          "metadata": {},
          "execution_count": 69
        }
      ]
    },
    {
      "cell_type": "markdown",
      "source": [
        "### model 3"
      ],
      "metadata": {
        "id": "F1dIubKmdpzr"
      }
    },
    {
      "cell_type": "code",
      "source": [
        "model3 = models.Sequential()\n",
        "model3.add(layers.GRU(units=128, input_shape=(word_len, symbols_len)))\n",
        "model3.add(layers.RepeatVector(word_len))\n",
        "model3.add(layers.GRU(units=256, return_sequences=True))\n",
        "model3.add(layers.Dense(units=symbols_len, activation='softmax'))\n",
        "model3.compile('adam', 'categorical_crossentropy', metrics=['accuracy'])\n",
        "print(model3.summary())"
      ],
      "metadata": {
        "colab": {
          "base_uri": "https://localhost:8080/"
        },
        "outputId": "be611875-c6b0-4c16-beb1-8b4eb4f81d57",
        "id": "21uQJTRqdpzy"
      },
      "execution_count": null,
      "outputs": [
        {
          "output_type": "stream",
          "name": "stdout",
          "text": [
            "Model: \"sequential_4\"\n",
            "_________________________________________________________________\n",
            " Layer (type)                Output Shape              Param #   \n",
            "=================================================================\n",
            " gru_4 (GRU)                 (None, 128)               60288     \n",
            "                                                                 \n",
            " repeat_vector_2 (RepeatVect  (None, 10, 128)          0         \n",
            " or)                                                             \n",
            "                                                                 \n",
            " gru_5 (GRU)                 (None, 10, 256)           296448    \n",
            "                                                                 \n",
            " dense_4 (Dense)             (None, 10, 27)            6939      \n",
            "                                                                 \n",
            "=================================================================\n",
            "Total params: 363,675\n",
            "Trainable params: 363,675\n",
            "Non-trainable params: 0\n",
            "_________________________________________________________________\n",
            "None\n"
          ]
        }
      ]
    },
    {
      "cell_type": "code",
      "source": [
        "model3.fit(x_train, y_train, batch_size=32, epochs=15, callbacks=[get_call_backs('/content/drive/MyDrive/model3.h5')])"
      ],
      "metadata": {
        "colab": {
          "base_uri": "https://localhost:8080/"
        },
        "outputId": "0d462070-f292-4002-b3ee-156034899a27",
        "id": "DXHF2MQPdpzz"
      },
      "execution_count": null,
      "outputs": [
        {
          "output_type": "stream",
          "name": "stdout",
          "text": [
            "Epoch 1/15\n",
            "4759/4759 [==============================] - 226s 47ms/step - loss: 2.1469 - accuracy: 0.3600\n",
            "Epoch 2/15\n",
            "4759/4759 [==============================] - 221s 47ms/step - loss: 1.0660 - accuracy: 0.6665\n",
            "Epoch 3/15\n",
            "4759/4759 [==============================] - 222s 47ms/step - loss: 0.4352 - accuracy: 0.8668\n",
            "Epoch 4/15\n",
            "4759/4759 [==============================] - 224s 47ms/step - loss: 0.2672 - accuracy: 0.9196\n",
            "Epoch 5/15\n",
            "4759/4759 [==============================] - 223s 47ms/step - loss: 0.2089 - accuracy: 0.9370\n",
            "Epoch 6/15\n",
            "4759/4759 [==============================] - 227s 48ms/step - loss: 0.1817 - accuracy: 0.9449\n",
            "Epoch 7/15\n",
            "4759/4759 [==============================] - 223s 47ms/step - loss: 0.1648 - accuracy: 0.9499\n",
            "Epoch 8/15\n",
            "4759/4759 [==============================] - 225s 47ms/step - loss: 0.1536 - accuracy: 0.9530\n",
            "Epoch 9/15\n",
            "4759/4759 [==============================] - 225s 47ms/step - loss: 0.1460 - accuracy: 0.9553\n",
            "Epoch 10/15\n",
            "4759/4759 [==============================] - 222s 47ms/step - loss: 0.1397 - accuracy: 0.9570\n",
            "Epoch 11/15\n",
            "4759/4759 [==============================] - 225s 47ms/step - loss: 0.1349 - accuracy: 0.9585\n",
            "Epoch 12/15\n",
            "4759/4759 [==============================] - 227s 48ms/step - loss: 0.1308 - accuracy: 0.9595\n",
            "Epoch 13/15\n",
            "4759/4759 [==============================] - 227s 48ms/step - loss: 0.1278 - accuracy: 0.9603\n",
            "Epoch 14/15\n",
            "4759/4759 [==============================] - 229s 48ms/step - loss: 0.1243 - accuracy: 0.9615\n",
            "Epoch 15/15\n",
            "4759/4759 [==============================] - 227s 48ms/step - loss: 0.1222 - accuracy: 0.9620\n"
          ]
        },
        {
          "output_type": "execute_result",
          "data": {
            "text/plain": [
              "<keras.callbacks.History at 0x7f3ee04401d0>"
            ]
          },
          "metadata": {},
          "execution_count": 72
        }
      ]
    },
    {
      "cell_type": "code",
      "source": [
        "test_model(model3)"
      ],
      "metadata": {
        "colab": {
          "base_uri": "https://localhost:8080/",
          "height": 35
        },
        "outputId": "c6062fad-024c-4951-bd26-8a924d0b7b1a",
        "id": "2qQt9jymdpzz"
      },
      "execution_count": null,
      "outputs": [
        {
          "output_type": "execute_result",
          "data": {
            "application/vnd.google.colaboratory.intrinsic+json": {
              "type": "string"
            },
            "text/plain": [
              "'   zi        love     deep    plearning '"
            ]
          },
          "metadata": {},
          "execution_count": 73
        }
      ]
    },
    {
      "cell_type": "markdown",
      "source": [
        "### model 4"
      ],
      "metadata": {
        "id": "1w8bW90Wr60n"
      }
    },
    {
      "cell_type": "code",
      "source": [
        "model4 = models.Sequential()\n",
        "model4.add(layers.GRU(units=128, input_shape=(word_len, symbols_len)))\n",
        "model4.add(layers.RepeatVector(word_len))\n",
        "model4.add(layers.GRU(units=128, return_sequences=True))\n",
        "model4.add(layers.GRU(units=128, return_sequences=True))\n",
        "model4.add(layers.Dense(units=symbols_len, activation='softmax'))\n",
        "model4.compile('adam', 'categorical_crossentropy', metrics=['accuracy'])\n",
        "print(model4.summary())"
      ],
      "metadata": {
        "colab": {
          "base_uri": "https://localhost:8080/"
        },
        "outputId": "b568eba8-480e-474b-d544-6c8fcf794954",
        "id": "nqDo8GhEr602"
      },
      "execution_count": null,
      "outputs": [
        {
          "output_type": "stream",
          "name": "stdout",
          "text": [
            "Model: \"sequential\"\n",
            "_________________________________________________________________\n",
            " Layer (type)                Output Shape              Param #   \n",
            "=================================================================\n",
            " gru (GRU)                   (None, 128)               60288     \n",
            "                                                                 \n",
            " repeat_vector (RepeatVector  (None, 10, 128)          0         \n",
            " )                                                               \n",
            "                                                                 \n",
            " gru_1 (GRU)                 (None, 10, 128)           99072     \n",
            "                                                                 \n",
            " gru_2 (GRU)                 (None, 10, 128)           99072     \n",
            "                                                                 \n",
            " dense (Dense)               (None, 10, 27)            3483      \n",
            "                                                                 \n",
            "=================================================================\n",
            "Total params: 261,915\n",
            "Trainable params: 261,915\n",
            "Non-trainable params: 0\n",
            "_________________________________________________________________\n",
            "None\n"
          ]
        }
      ]
    },
    {
      "cell_type": "code",
      "source": [
        "model4.fit(x_train, y_train, batch_size=64, epochs=15, callbacks=[get_call_backs('/content/drive/MyDrive/model4.h5')])"
      ],
      "metadata": {
        "colab": {
          "base_uri": "https://localhost:8080/"
        },
        "outputId": "a91bb216-e0a1-4684-bdf6-26bb4bc37a34",
        "id": "RPr2rFtPr603"
      },
      "execution_count": null,
      "outputs": [
        {
          "output_type": "stream",
          "name": "stdout",
          "text": [
            "Epoch 1/15\n",
            "2380/2380 [==============================] - 46s 16ms/step - loss: 2.3031 - accuracy: 0.3145\n",
            "Epoch 2/15\n",
            "2380/2380 [==============================] - 37s 16ms/step - loss: 1.9185 - accuracy: 0.4045\n",
            "Epoch 3/15\n",
            "2380/2380 [==============================] - 38s 16ms/step - loss: 1.5198 - accuracy: 0.5127\n",
            "Epoch 4/15\n",
            "2380/2380 [==============================] - 37s 16ms/step - loss: 0.8906 - accuracy: 0.7087\n",
            "Epoch 5/15\n",
            "2380/2380 [==============================] - 37s 15ms/step - loss: 0.5838 - accuracy: 0.8097\n",
            "Epoch 6/15\n",
            "2380/2380 [==============================] - 37s 16ms/step - loss: 0.4518 - accuracy: 0.8548\n",
            "Epoch 7/15\n",
            "2380/2380 [==============================] - 41s 17ms/step - loss: 0.3820 - accuracy: 0.8787\n",
            "Epoch 8/15\n",
            "2380/2380 [==============================] - 37s 15ms/step - loss: 0.3367 - accuracy: 0.8940\n",
            "Epoch 9/15\n",
            "2380/2380 [==============================] - 37s 15ms/step - loss: 0.3003 - accuracy: 0.9065\n",
            "Epoch 10/15\n",
            "2380/2380 [==============================] - 38s 16ms/step - loss: 0.2759 - accuracy: 0.9144\n",
            "Epoch 11/15\n",
            "2380/2380 [==============================] - 38s 16ms/step - loss: 0.2582 - accuracy: 0.9204\n",
            "Epoch 12/15\n",
            "2380/2380 [==============================] - 42s 18ms/step - loss: 0.2444 - accuracy: 0.9247\n",
            "Epoch 13/15\n",
            "2380/2380 [==============================] - 37s 16ms/step - loss: 0.2291 - accuracy: 0.9300\n",
            "Epoch 14/15\n",
            "2380/2380 [==============================] - 37s 15ms/step - loss: 0.2192 - accuracy: 0.9329\n",
            "Epoch 15/15\n",
            "2380/2380 [==============================] - 37s 15ms/step - loss: 0.2084 - accuracy: 0.9363\n"
          ]
        },
        {
          "output_type": "execute_result",
          "data": {
            "text/plain": [
              "<keras.callbacks.History at 0x7f42004a58d0>"
            ]
          },
          "metadata": {},
          "execution_count": 10
        }
      ]
    },
    {
      "cell_type": "code",
      "source": [
        "test_model(model4)"
      ],
      "metadata": {
        "colab": {
          "base_uri": "https://localhost:8080/",
          "height": 35
        },
        "outputId": "7bc1467a-0dcf-4ab2-d55b-c51a819bf553",
        "id": "CXC1Ujaqr603"
      },
      "execution_count": null,
      "outputs": [
        {
          "output_type": "execute_result",
          "data": {
            "application/vnd.google.colaboratory.intrinsic+json": {
              "type": "string"
            },
            "text/plain": [
              "'a   i        love   a deep    plearning '"
            ]
          },
          "metadata": {},
          "execution_count": 11
        }
      ]
    }
  ]
}